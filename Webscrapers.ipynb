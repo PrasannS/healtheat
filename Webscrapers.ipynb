{
 "cells": [
  {
   "cell_type": "code",
   "execution_count": 1,
   "metadata": {},
   "outputs": [],
   "source": [
    "from bs4 import BeautifulSoup\n",
    "import urllib\n",
    "import re"
   ]
  },
  {
   "cell_type": "code",
   "execution_count": 42,
   "metadata": {},
   "outputs": [],
   "source": [
    "def getsoup (address):\n",
    "    getRequest = urllib.request.Request(address, None, {'User-Agent':'Mozilla/5.0 (Windows NT 10.0; Win64; x64; rv:54.0) Gecko/20100101 Firefox/54.0'})\n",
    "\n",
    "    urlfile = urllib.request.urlopen(getRequest)\n",
    "    htmlResult = urlfile.read(20000000)\n",
    "    urlfile.close()\n",
    "    \n",
    "    return BeautifulSoup(htmlResult)\n",
    "    \n",
    "    \n",
    "def search(query):\n",
    "    addr = \"http://www.bing.com/search?q=%s\" % (urllib.parse.quote_plus(query)+ \"&count=20\")\n",
    "\n",
    "    soup = getsoup(addr).find('div',id='b_content')\n",
    "\n",
    "    [s.extract() for s in soup('span')]\n",
    "    unwantedTags = ['cite']\n",
    "    \n",
    "    for tag in unwantedTags:\n",
    "        for match in soup.findAll(tag):\n",
    "            match.replaceWithChildren()\n",
    "\n",
    "    results = soup.findAll('li')\n",
    "    \n",
    "\n",
    "    return results\n",
    "\n",
    "def get_item_info(query):\n",
    "    links = search(query)\n",
    "    titles = []\n",
    "    urls = []\n",
    "    paragraphs = []\n",
    "    for link in links :\n",
    "        try:\n",
    "            urls.append(str(link.find('h2').find('a')['href']).replace(\" \", \" \"))\n",
    "            titles.append(str(link.find('h2').text).replace(\" \", \" \"))\n",
    "        except:\n",
    "            \"\"\n",
    "        try:\n",
    "            paragraphs.append(str(link.findAll('p')[0].text))\n",
    "        except:\n",
    "            paragraphs.append(\"\")\n",
    "\n",
    "    return titles, urls, paragraphs, links[0]"
   ]
  },
  {
   "cell_type": "code",
   "execution_count": 62,
   "metadata": {},
   "outputs": [],
   "source": [
    "def getmenus():\n",
    "    addr = \"https://www.fastfoodmenuprices.com/all-restaurants/\"\n",
    "\n",
    "    soup = getsoup(addr)\n",
    "\n",
    "    results = soup.findAll('ul', class_ = \"menu\")\n",
    "\n",
    "    items = results[0].findAll('li')\n",
    "    menus = []\n",
    "    temp = {}\n",
    "    for r in results:\n",
    "        items = r.findAll('li')\n",
    "\n",
    "        for i in items:\n",
    "            menus.append({'name':i.find('a').text, 'url':i.find('a')['href']})\n",
    "    \n",
    "    return menus\n",
    "            \n"
   ]
  },
  {
   "cell_type": "code",
   "execution_count": 63,
   "metadata": {},
   "outputs": [
    {
     "name": "stdout",
     "output_type": "stream",
     "text": [
      "[{'name': '&pizza', 'url': 'https://www.fastfoodmenuprices.com/and-pizza-prices/'}, {'name': '99 Restaurant & Pub', 'url': 'https://www.fastfoodmenuprices.com/99-restaurant-pub-menu-prices/'}, {'name': 'Abuelo’s', 'url': 'https://www.fastfoodmenuprices.com/abuelos-menu-prices/'}, {'name': 'America’s Best Wings', 'url': 'https://www.fastfoodmenuprices.com/americas-best-wings-menu-prices/'}, {'name': 'American Deli’s', 'url': 'https://www.fastfoodmenuprices.com/american-delis-menu-prices/'}, {'name': 'Amy’s Drive Thru', 'url': 'https://www.fastfoodmenuprices.com/amys-drive-through-prices/'}, {'name': 'Andy’s Frozen Custard', 'url': 'https://www.fastfoodmenuprices.com/andys-frozen-custard-menu-prices/'}, {'name': 'Applebee’s', 'url': 'https://www.fastfoodmenuprices.com/applebees-prices/'}, {'name': 'Alinea', 'url': 'https://www.fastfoodmenuprices.com/alinea-menu-prices/'}, {'name': 'A&W', 'url': 'https://www.fastfoodmenuprices.com/aw-prices/'}, {'name': 'Arby’s', 'url': 'https://www.fastfoodmenuprices.com/arbys-prices/'}, {'name': 'Aria Buffet', 'url': 'https://www.fastfoodmenuprices.com/aria-buffet-menu-prices/'}, {'name': 'Asian Buffet', 'url': 'https://www.fastfoodmenuprices.com/asian-buffet-menu-prices/'}, {'name': 'Au Bon Pain', 'url': 'https://www.fastfoodmenuprices.com/au-bon-pain-prices/'}, {'name': 'Auntie Anne’s', 'url': 'https://www.fastfoodmenuprices.com/auntie-annes-prices/'}, {'name': 'Azteca', 'url': 'https://www.fastfoodmenuprices.com/azteca-menu-prices/'}, {'name': 'Bahama Breeze', 'url': 'https://www.fastfoodmenuprices.com/bahama-breeze-menu-prices/'}, {'name': 'Bahama Bucks', 'url': 'https://www.fastfoodmenuprices.com/bahama-bucks-prices/'}, {'name': 'Baja Fresh', 'url': 'https://www.fastfoodmenuprices.com/baja-fresh-prices/'}, {'name': 'Bakers Square', 'url': 'https://www.fastfoodmenuprices.com/bakers-square-menu-prices/'}, {'name': 'Bamboo Bistro', 'url': 'https://www.fastfoodmenuprices.com/bamboo-bistro-menu-prices/'}, {'name': 'Bangkok Cuisine', 'url': 'https://www.fastfoodmenuprices.com/bangkok-cuisine-menu-prices/'}, {'name': 'Barberitos', 'url': 'https://www.fastfoodmenuprices.com/barberitos-menu-prices/'}, {'name': 'Bar Louie', 'url': 'https://www.fastfoodmenuprices.com/bar-louie-menu-prices/'}, {'name': 'Barro’s Pizza', 'url': 'https://www.fastfoodmenuprices.com/barros-pizza-menu-prices/'}, {'name': 'Baskin-Robbins', 'url': 'https://www.fastfoodmenuprices.com/baskin-robbins-prices/'}, {'name': 'Ben & Jerry’s', 'url': 'https://www.fastfoodmenuprices.com/ben-jerrys-prices/'}, {'name': 'Benihana', 'url': 'https://www.fastfoodmenuprices.com/benihana-menu-prices/'}, {'name': 'Biggby Coffee', 'url': 'https://www.fastfoodmenuprices.com/biggby-coffee-prices/'}, {'name': 'Big Shot Bobs', 'url': 'https://www.fastfoodmenuprices.com/big-shot-bobs-menu-prices/'}, {'name': 'Bill Millers BBQ', 'url': 'https://www.fastfoodmenuprices.com/bill-millers-bbq-menu-prices/'}, {'name': 'BJ’s Restaurant & Brewhouse', 'url': 'https://www.fastfoodmenuprices.com/bjs-restaurant-brewhouse-menu-prices/'}, {'name': 'Black Angus', 'url': 'https://www.fastfoodmenuprices.com/black-angus-prices/'}, {'name': 'Black Bear Diner', 'url': 'https://www.fastfoodmenuprices.com/black-bear-diner-prices/'}, {'name': 'Blaze Pizza', 'url': 'https://www.fastfoodmenuprices.com/blaze-pizza-prices/'}, {'name': 'Blimpie', 'url': 'https://www.fastfoodmenuprices.com/blimpie-prices/'}, {'name': 'Blue Dolphin', 'url': 'https://www.fastfoodmenuprices.com/blue-dolphin-menu-prices/'}, {'name': 'Bob Evans Farmhouse', 'url': 'https://www.fastfoodmenuprices.com/bob-evans-farmhouse-prices/'}, {'name': 'Bobby’s Burger Palace', 'url': 'https://www.fastfoodmenuprices.com/bobbys-burger-palace-prices/'}, {'name': 'Bojangles’', 'url': 'https://www.fastfoodmenuprices.com/bojangles-prices/'}, {'name': 'Bonchon', 'url': 'https://www.fastfoodmenuprices.com/bonchon-menu-prices/'}, {'name': 'Bonefish Grill', 'url': 'https://www.fastfoodmenuprices.com/bonefish-grill-prices/'}, {'name': 'Boomerjack’s', 'url': 'https://www.fastfoodmenuprices.com/boomerjacks-menu-prices/'}, {'name': 'Boston Market', 'url': 'https://www.fastfoodmenuprices.com/boston-market-prices/'}, {'name': 'Braums', 'url': 'https://www.fastfoodmenuprices.com/braums-prices/'}, {'name': 'Bravo', 'url': 'https://www.fastfoodmenuprices.com/bravo-menu-prices/'}, {'name': 'Brio Tuscan Grille', 'url': 'https://www.fastfoodmenuprices.com/brio-menu-prices/'}, {'name': 'Bruegger’s Bagels', 'url': 'https://www.fastfoodmenuprices.com/brueggers-bagels-prices/'}, {'name': 'Bruster’s', 'url': 'https://www.fastfoodmenuprices.com/brusters-prices/'}, {'name': 'Buca Di Beppo', 'url': 'https://www.fastfoodmenuprices.com/buca-di-beppo-menu-prices/'}, {'name': 'Buffalo Wild Wings', 'url': 'https://www.fastfoodmenuprices.com/buffalo-wild-wings-prices/'}, {'name': 'Bugerim', 'url': 'https://www.fastfoodmenuprices.com/bugerim-menu-prices/'}, {'name': 'Buona Beef', 'url': 'https://www.fastfoodmenuprices.com/buona-beef-menu-prices/'}, {'name': 'Burger 21', 'url': 'https://www.fastfoodmenuprices.com/burger-21-prices/'}, {'name': 'Burger King', 'url': 'https://www.fastfoodmenuprices.com/burger-king-prices/'}, {'name': 'BurgerFi', 'url': 'https://www.fastfoodmenuprices.com/burgerfi-prices/'}, {'name': 'Burgerville', 'url': 'https://www.fastfoodmenuprices.com/burgerville-prices/'}, {'name': 'Bush’s Chicken', 'url': 'https://www.fastfoodmenuprices.com/bushs-chicken-menu-prices/'}, {'name': 'Cafe Rio', 'url': 'https://www.fastfoodmenuprices.com/cafe-rio-prices/'}, {'name': 'Cafe Zupas', 'url': 'https://www.fastfoodmenuprices.com/cafe-zupas-menu-prices/'}, {'name': 'California Pizza Kitchen', 'url': 'https://www.fastfoodmenuprices.com/california-pizza-kitchen-prices/'}, {'name': 'Capriotti’s', 'url': 'https://www.fastfoodmenuprices.com/capriottis-prices/'}, {'name': 'Captain D’s', 'url': 'https://www.fastfoodmenuprices.com/captain-ds-prices/'}, {'name': 'Caribou Coffee', 'url': 'https://www.fastfoodmenuprices.com/caribou-coffee-prices/'}, {'name': 'Carrabba’s Italian Grill', 'url': 'https://www.fastfoodmenuprices.com/carrabbas-italian-grill-menu-prices/'}, {'name': 'Carl’s Jr.', 'url': 'https://www.fastfoodmenuprices.com/hardees-carls-jr-prices/'}, {'name': 'Carvel', 'url': 'https://www.fastfoodmenuprices.com/carvel-prices/'}, {'name': 'Casa Ole', 'url': 'https://www.fastfoodmenuprices.com/casa-ole-menu-prices/'}, {'name': 'Casey’s Pizza', 'url': 'https://www.fastfoodmenuprices.com/caseys-pizza-menu-prices/'}, {'name': 'Chama Gaucha', 'url': 'https://www.fastfoodmenuprices.com/chama-gaucha-menu-prices/'}, {'name': 'Cheba Hut', 'url': 'https://www.fastfoodmenuprices.com/cheba-hut-menu-prices/'}, {'name': 'Checkers', 'url': 'https://www.fastfoodmenuprices.com/checkers-rallys-prices/'}, {'name': 'Cheddar’s', 'url': 'https://www.fastfoodmenuprices.com/cheddars-prices/'}, {'name': 'Cheesecake Factory', 'url': 'https://www.fastfoodmenuprices.com/cheesecake-factory-prices/'}, {'name': 'Cherry Berry', 'url': 'https://www.fastfoodmenuprices.com/cherry-berry-prices/'}, {'name': 'Chick-fil-A', 'url': 'https://www.fastfoodmenuprices.com/chick-fil-a-prices/'}, {'name': 'Chicken Express', 'url': 'https://www.fastfoodmenuprices.com/chicken-express-prices/'}, {'name': 'Chicken King', 'url': 'https://www.fastfoodmenuprices.com/chicken-king-menu-prices/'}, {'name': 'Chicken Salad Chick', 'url': 'https://www.fastfoodmenuprices.com/chicken-salad-chick-prices/'}, {'name': 'Chicken Shack', 'url': 'https://www.fastfoodmenuprices.com/chicken-shack-menu-prices/'}, {'name': 'Chili’s', 'url': 'https://www.fastfoodmenuprices.com/chilis-prices/'}, {'name': 'China Buffet', 'url': 'https://www.fastfoodmenuprices.com/china-buffet-menu-prices/'}, {'name': 'China Dragon', 'url': 'https://www.fastfoodmenuprices.com/china-dragon-menu-prices/'}, {'name': 'China King’s', 'url': 'https://www.fastfoodmenuprices.com/china-kings-menu-prices/'}, {'name': 'China One', 'url': 'https://www.fastfoodmenuprices.com/china-one-menu-prices/'}, {'name': 'China Wok', 'url': 'https://www.fastfoodmenuprices.com/china-wok-menu-prices/'}, {'name': 'Chipotle', 'url': 'https://www.fastfoodmenuprices.com/chipotle-prices/'}, {'name': 'Chopt', 'url': 'https://www.fastfoodmenuprices.com/chopt-menu-prices/'}, {'name': 'Chopsticks', 'url': 'https://www.fastfoodmenuprices.com/chopsticks-menu-prices/'}, {'name': 'Chuck A Rama', 'url': 'https://www.fastfoodmenuprices.com/chuck-a-rama-menu-prices/'}, {'name': 'Chuck E. Cheese', 'url': 'https://www.fastfoodmenuprices.com/chuck-e-cheese-prices/'}, {'name': 'Church’s Chicken', 'url': 'https://www.fastfoodmenuprices.com/churchs-chicken-prices/'}, {'name': 'Cicis Pizza Menu & Prices 2021', 'url': 'https://www.fastfoodmenuprices.com/cicis-pizza-menu-prices/'}, {'name': 'Circus Circus Buffet', 'url': 'https://www.fastfoodmenuprices.com/circus-circus-buffet-menu-prices/'}, {'name': 'Claim Jumper Restaurant & Saloon', 'url': 'https://www.fastfoodmenuprices.com/claim-jumper-restaurant-saloon-prices/'}, {'name': 'Cinnabon', 'url': 'https://www.fastfoodmenuprices.com/cinnabon-prices/'}, {'name': 'Cold Stone Creamery', 'url': 'https://www.fastfoodmenuprices.com/cold-stone-creamery-prices/'}, {'name': 'Colton’s', 'url': 'https://www.fastfoodmenuprices.com/coltons-menu-prices/'}, {'name': 'Cook Out', 'url': 'https://www.fastfoodmenuprices.com/cookout-prices/'}, {'name': 'Cooper’s Hawk', 'url': 'https://www.fastfoodmenuprices.com/coopers-hawk-menu-prices/'}, {'name': 'Corner Bakery', 'url': 'https://www.fastfoodmenuprices.com/corner-bakery-prices/'}, {'name': 'Cosi', 'url': 'https://www.fastfoodmenuprices.com/cosi-prices/'}, {'name': 'Costa Vida', 'url': 'https://www.fastfoodmenuprices.com/costa-vida-prices/'}, {'name': 'Costco Food Court', 'url': 'https://www.fastfoodmenuprices.com/costco-food-court-menu-prices/'}, {'name': 'Cotton Patch', 'url': 'https://www.fastfoodmenuprices.com/cotton-patch-menu-prices/'}, {'name': 'Cracker Barrel', 'url': 'https://www.fastfoodmenuprices.com/cracker-barrel-prices/'}, {'name': 'Crave', 'url': 'https://www.fastfoodmenuprices.com/crave-menu-prices/'}, {'name': 'Culver’s', 'url': 'https://www.fastfoodmenuprices.com/culvers-prices/'}, {'name': 'CYOC', 'url': 'https://www.fastfoodmenuprices.com/cyoc-menu-prices/'}, {'name': 'Dairy Queen', 'url': 'https://www.fastfoodmenuprices.com/dairy-queen-prices/'}, {'name': 'Dave & Buster’s', 'url': 'https://www.fastfoodmenuprices.com/dave-busters-menu-prices/'}, {'name': 'Del Taco', 'url': 'https://www.fastfoodmenuprices.com/del-taco-prices/'}, {'name': 'Denny’s', 'url': 'https://www.fastfoodmenuprices.com/dennys-menu-prices/'}, {'name': 'Dickey’s Barbecue', 'url': 'https://www.fastfoodmenuprices.com/dickeys-barbecue-menu-prices/'}, {'name': 'Domino’s', 'url': 'https://www.fastfoodmenuprices.com/dominos-prices/'}, {'name': 'Donatos Pizza', 'url': 'https://www.fastfoodmenuprices.com/donatos-pizza-prices/'}, {'name': 'Dreamland Bar-B-Que', 'url': 'https://www.fastfoodmenuprices.com/dreamland-bar-b-que-menu-prices/'}, {'name': 'Duffy’s', 'url': 'https://www.fastfoodmenuprices.com/duffys-menu-prices/'}, {'name': 'Duck Donuts', 'url': 'https://www.fastfoodmenuprices.com/duck-donuts-menu-prices/'}, {'name': 'Dunkin’ Donuts', 'url': 'https://www.fastfoodmenuprices.com/dunkin-donuts-prices/'}, {'name': 'Dutch Bros', 'url': 'https://www.fastfoodmenuprices.com/dutch-bros-prices/'}, {'name': 'East Bay Deli', 'url': 'https://www.fastfoodmenuprices.com/east-bay-deli-menu-prices/'}, {'name': 'East Of Chicago Pizza', 'url': 'https://www.fastfoodmenuprices.com/east-of-chicago-pizza-prices/'}, {'name': 'Eat’n Park', 'url': 'https://www.fastfoodmenuprices.com/eatnpark-menu-prices/'}, {'name': 'Einstein Bros', 'url': 'https://www.fastfoodmenuprices.com/einstein-bros-menu-prices/'}, {'name': 'Elmer Diner', 'url': 'https://www.fastfoodmenuprices.com/elmer-diner-menu-prices/'}, {'name': 'El Nopal', 'url': 'https://www.fastfoodmenuprices.com/el-nopal-menu-prices/'}, {'name': 'El Pollo Loco', 'url': 'https://www.fastfoodmenuprices.com/el-pollo-loco-prices/'}, {'name': 'El Rancho', 'url': 'https://www.fastfoodmenuprices.com/el-rancho-menu-prices/'}, {'name': 'El Torito', 'url': 'https://www.fastfoodmenuprices.com/el-torito-menu-prices/'}, {'name': 'El Toro', 'url': 'https://www.fastfoodmenuprices.com/el-toro-menu-prices/'}, {'name': 'Elevation Burger', 'url': 'https://www.fastfoodmenuprices.com/elevation-burger-prices/'}, {'name': 'Erbert & Gerbert’s', 'url': 'https://www.fastfoodmenuprices.com/erbert-gerberts-menu-prices/'}, {'name': 'Famous Dave’s', 'url': 'https://www.fastfoodmenuprices.com/famous-daves-menu-prices/'}, {'name': 'Farmer Boys', 'url': 'https://www.fastfoodmenuprices.com/farmer-boys-prices/'}, {'name': 'Fatburger', 'url': 'https://www.fastfoodmenuprices.com/fatburger-prices/'}, {'name': 'Fatz Cafe', 'url': 'https://www.fastfoodmenuprices.com/fatz-cafe-menu-prices/'}, {'name': 'Fazoli’s', 'url': 'https://www.fastfoodmenuprices.com/fazolis-prices/'}, {'name': 'Filibertos', 'url': 'https://www.fastfoodmenuprices.com/filibertos-menu-prices/'}, {'name': 'Firebirds Wood Fired Grill', 'url': 'https://www.fastfoodmenuprices.com/firebirds-wood-fired-grill-menu-prices/'}, {'name': 'Firehouse Subs', 'url': 'https://www.fastfoodmenuprices.com/firehouse-subs-prices/'}, {'name': 'First Watch', 'url': 'https://www.fastfoodmenuprices.com/first-watch-menu-prices/'}, {'name': 'Five Guys', 'url': 'https://www.fastfoodmenuprices.com/five-guys-prices/'}, {'name': 'Five Star Pizza', 'url': 'https://www.fastfoodmenuprices.com/five-star-pizza-menu-prices/'}, {'name': 'Flame Broiler', 'url': 'https://www.fastfoodmenuprices.com/flame-broiler-prices/'}, {'name': 'Fleming’s Steakhouse', 'url': 'https://www.fastfoodmenuprices.com/flemings-steakhouse-menu-prices/'}, {'name': 'Fogo de Chao', 'url': 'https://www.fastfoodmenuprices.com/fogo-de-chao-menu-prices/'}, {'name': 'Fox’s Pizza', 'url': 'https://www.fastfoodmenuprices.com/foxs-pizza-prices/'}, {'name': 'Freddy’s', 'url': 'https://www.fastfoodmenuprices.com/freddys-prices/'}, {'name': 'Freebirds', 'url': 'https://www.fastfoodmenuprices.com/freebirds-prices/'}, {'name': 'French Laundry', 'url': 'https://www.fastfoodmenuprices.com/french-laundry-menu-prices/'}, {'name': 'Friendly’s', 'url': 'https://www.fastfoodmenuprices.com/friendlys-menu-prices/'}, {'name': 'Freshii', 'url': 'https://www.fastfoodmenuprices.com/freshii-prices/'}, {'name': 'Frisch’s', 'url': 'https://www.fastfoodmenuprices.com/frischs-menu-prices/'}, {'name': 'Fuddruckers', 'url': 'https://www.fastfoodmenuprices.com/fuddruckers-prices/'}, {'name': 'Fuzzy’s Taco Shop', 'url': 'https://www.fastfoodmenuprices.com/fuzzys-taco-shop-menu-prices/'}, {'name': 'Genghis Grill', 'url': 'https://www.fastfoodmenuprices.com/genghis-grill-menu-prices/'}, {'name': 'Gigi’s Cupcakes', 'url': 'https://www.fastfoodmenuprices.com/gigis-cupcakes-prices/'}, {'name': 'Girl & The Goat', 'url': 'https://www.fastfoodmenuprices.com/girl-the-goat-menu-prices/'}, {'name': 'Gionino’s Pizzeria', 'url': 'https://www.fastfoodmenuprices.com/gioninos-pizzeria-menu-prices/'}, {'name': 'Glory Days Grill', 'url': 'https://www.fastfoodmenuprices.com/glory-days-grill-menu-prices/'}, {'name': 'Godfather’s Pizza', 'url': 'https://www.fastfoodmenuprices.com/godfathers-pizza-prices/'}, {'name': 'Golden Chick', 'url': 'https://www.fastfoodmenuprices.com/golden-chick-prices/'}, {'name': 'Golden Corral Menu Prices', 'url': 'https://www.fastfoodmenuprices.com/golden-corral-menu-prices/'}, {'name': 'Good Times Burgers & Frozen Custard', 'url': 'https://www.fastfoodmenuprices.com/good-times-burgers-frozen-custard-menu-prices/'}, {'name': 'Granite City', 'url': 'https://www.fastfoodmenuprices.com/granite-city-menu-prices/'}, {'name': 'Greystone Steakhouse', 'url': 'https://www.fastfoodmenuprices.com/greystone-steakhouse-menu-prices/'}, {'name': 'Habit Burger', 'url': 'https://www.fastfoodmenuprices.com/the-habit-burger-prices/'}, {'name': 'Halal Bros', 'url': 'https://www.fastfoodmenuprices.com/halal-bros-menu-prices/'}, {'name': 'Happy’s Pizza', 'url': 'https://www.fastfoodmenuprices.com/happys-pizza-menu-prices/'}, {'name': 'Hardee’s', 'url': 'https://www.fastfoodmenuprices.com/hardees-carls-jr-prices/'}, {'name': 'Hard Rock Cafe', 'url': 'https://www.fastfoodmenuprices.com/hard-rock-cafe-menu-prices/'}, {'name': 'Hibachi Grill', 'url': 'https://www.fastfoodmenuprices.com/hibachi-grill-menu-prices/'}, {'name': 'Highland House', 'url': 'https://www.fastfoodmenuprices.com/highland-house-menu-prices/'}, {'name': 'Heavenly Ham Menu Prices', 'url': 'https://www.fastfoodmenuprices.com/heavenly-ham-menu-prices/'}, {'name': 'Home Town Buffet', 'url': 'https://www.fastfoodmenuprices.com/home-town-buffet-menu-prices/'}, {'name': 'Honeybaked Ham', 'url': 'https://www.fastfoodmenuprices.com/honeybaked-ham-menu-prices/'}, {'name': 'Houlihans', 'url': 'https://www.fastfoodmenuprices.com/houlihans-menu-prices/'}, {'name': 'Hopdoddy', 'url': 'https://www.fastfoodmenuprices.com/hopdoddy-prices/'}, {'name': 'Hooters', 'url': 'https://www.fastfoodmenuprices.com/hooters-prices/'}, {'name': 'Hopcat', 'url': 'https://www.fastfoodmenuprices.com/hopcat-menu-prices/'}, {'name': 'Hot Head Burritos', 'url': 'https://www.fastfoodmenuprices.com/hot-head-burritos-menu-prices/'}, {'name': 'Hot Potato', 'url': 'https://www.fastfoodmenuprices.com/hot-potato-cafe-menu-prices/'}, {'name': 'HuHot Mongolian Grill', 'url': 'https://www.fastfoodmenuprices.com/huhot-mongolian-grill-menu-prices/'}, {'name': 'Hungry Howie’s', 'url': 'https://www.fastfoodmenuprices.com/hungry-howies-prices/'}, {'name': 'Hwy 55', 'url': 'https://www.fastfoodmenuprices.com/hwy-55-menu-prices/'}, {'name': 'Ichiban Hibachi & Sushi Bar', 'url': 'https://www.fastfoodmenuprices.com/ichiban-hibachi-sushi-bar-menu-prices/'}, {'name': 'Idaho Pizza', 'url': 'https://www.fastfoodmenuprices.com/idaho-pizza-menu-prices/'}, {'name': 'IHOP', 'url': 'https://www.fastfoodmenuprices.com/ihop-prices/'}, {'name': 'Imo’s', 'url': 'https://www.fastfoodmenuprices.com/imos-prices/'}, {'name': 'In-N-Out', 'url': 'https://www.fastfoodmenuprices.com/in-n-out-prices/'}, {'name': 'Insomnia Cookies Menu Prices', 'url': 'https://www.fastfoodmenuprices.com/insomnia-cookies-menu-prices/'}, {'name': 'Islands', 'url': 'https://www.fastfoodmenuprices.com/islands-menu-prices/'}, {'name': 'J Alexander’s', 'url': 'https://www.fastfoodmenuprices.com/j-alexanders-menu-prices/'}, {'name': 'Jack in the Box', 'url': 'https://www.fastfoodmenuprices.com/jack-in-the-box-prices/'}, {'name': 'Jamba Juice', 'url': 'https://www.fastfoodmenuprices.com/jamba-juice-prices/'}, {'name': 'Jason’s Deli', 'url': 'https://www.fastfoodmenuprices.com/jasons-deli-prices/'}, {'name': 'Jet’s Pizza', 'url': 'https://www.fastfoodmenuprices.com/jets-pizza-prices/'}, {'name': 'Jersey Mike’s Subs', 'url': 'https://www.fastfoodmenuprices.com/jersey-mikes-subs-prices/'}, {'name': 'Jimmy John’s', 'url': 'https://www.fastfoodmenuprices.com/jimmy-johns-prices/'}, {'name': 'JJ’s Grill', 'url': 'https://www.fastfoodmenuprices.com/jjs-grill-menu-prices/'}, {'name': 'Joe’s Crab Shack Menu Prices', 'url': 'https://www.fastfoodmenuprices.com/joes-crab-shack-menu-prices/'}, {'name': 'Johnny Carino’s', 'url': 'https://www.fastfoodmenuprices.com/johnny-carinos-menu-prices/'}, {'name': 'Johnny Rockets', 'url': 'https://www.fastfoodmenuprices.com/johnny-rockets-prices/'}, {'name': 'John’s Incredible Pizza', 'url': 'https://www.fastfoodmenuprices.com/johns-incredible-pizza-prices/'}, {'name': 'Jose Peppers', 'url': 'https://www.fastfoodmenuprices.com/jose-peppers-menu-prices/'}, {'name': 'Jose Tejas', 'url': 'https://www.fastfoodmenuprices.com/jose-tejas-menu-prices/'}, {'name': 'Just Pizza', 'url': 'https://www.fastfoodmenuprices.com/just-pizza-menu-prices/'}, {'name': 'Juan Pollo', 'url': 'https://www.fastfoodmenuprices.com/juan-pollo-menu-prices/'}, {'name': 'Kabosu', 'url': 'https://www.fastfoodmenuprices.com/kabosu-menu-prices/'}, {'name': 'KFC', 'url': 'https://www.fastfoodmenuprices.com/kfc-prices/'}, {'name': 'Kona Grill', 'url': 'https://www.fastfoodmenuprices.com/kona-grill-menu-prices/'}, {'name': 'Kona Ice', 'url': 'https://www.fastfoodmenuprices.com/kona-ice-prices/'}, {'name': 'Kneaders Bakery & Cafe', 'url': 'https://www.fastfoodmenuprices.com/kneaders-bakery-cafe-menu-prices/'}, {'name': 'Kotobuki', 'url': 'https://www.fastfoodmenuprices.com/kotobuki-menu-prices/'}, {'name': 'Krispy Kreme', 'url': 'https://www.fastfoodmenuprices.com/krispy-kreme-prices/'}, {'name': 'Krystal', 'url': 'https://www.fastfoodmenuprices.com/krystal-prices/'}, {'name': 'LaRosa’s', 'url': 'https://www.fastfoodmenuprices.com/larosas-menu-prices/'}, {'name': 'Lazy Dog', 'url': 'https://www.fastfoodmenuprices.com/lazy-dog-menu-prices/'}, {'name': 'La Carreta', 'url': 'https://www.fastfoodmenuprices.com/la-carreta-menu-prices/'}, {'name': 'Lee’s Famous Recipe Chicken', 'url': 'https://www.fastfoodmenuprices.com/lees-famous-recipe-chicken-prices/'}, {'name': 'Lion’s Choice', 'url': 'https://www.fastfoodmenuprices.com/lions-choice-prices/'}, {'name': 'Little Caesars', 'url': 'https://www.fastfoodmenuprices.com/little-caesars-prices/'}, {'name': 'Logan’s Roadhouse', 'url': 'https://www.fastfoodmenuprices.com/logans-roadhouse-menu-prices/'}, {'name': 'LongHorn Steakhouse', 'url': 'https://www.fastfoodmenuprices.com/longhorn-steakhouse-prices/'}, {'name': 'Long John Silver’s', 'url': 'https://www.fastfoodmenuprices.com/long-john-silvers-prices/'}, {'name': 'Lou Malnati’s', 'url': 'https://www.fastfoodmenuprices.com/lou-malnatis-menu-prices/'}, {'name': 'Luby’s', 'url': 'https://www.fastfoodmenuprices.com/lubys-menu-prices/'}, {'name': 'Luxor Buffet', 'url': 'https://www.fastfoodmenuprices.com/luxor-buffet-menu-prices/'}, {'name': 'LYFE Kitchen', 'url': 'https://www.fastfoodmenuprices.com/lyfe-kitchen-prices/'}, {'name': 'M Grill', 'url': 'https://www.fastfoodmenuprices.com/m-grill-menu-prices/'}, {'name': 'Maggiano’s', 'url': 'https://www.fastfoodmenuprices.com/maggianos-menu-prices/'}, {'name': 'Main Moon', 'url': 'https://www.fastfoodmenuprices.com/main-moon-menu-prices/'}, {'name': 'Marble Slab Creamery', 'url': 'https://www.fastfoodmenuprices.com/marble-slab-creamery-prices/'}, {'name': 'Marco’s Pizza', 'url': 'https://www.fastfoodmenuprices.com/marcos-pizza-prices/'}, {'name': 'Mazzios', 'url': 'https://www.fastfoodmenuprices.com/mazzios-menu-prices/'}, {'name': 'McAlister’s Deli', 'url': 'https://www.fastfoodmenuprices.com/mcalisters-deli-prices/'}, {'name': 'McDonalds', 'url': 'https://www.fastfoodmenuprices.com/mcdonalds-prices/'}, {'name': 'Mellow Mushroom', 'url': 'https://www.fastfoodmenuprices.com/mellow-mushroom-prices/'}, {'name': 'Melting Pot', 'url': 'https://www.fastfoodmenuprices.com/melting-pot-menu-prices/'}, {'name': 'Menchies', 'url': 'https://www.fastfoodmenuprices.com/menchies-prices/'}, {'name': 'Metro Diner', 'url': 'https://www.fastfoodmenuprices.com/metro-diner-menu-prices/'}, {'name': 'Mimi’s Cafe', 'url': 'https://www.fastfoodmenuprices.com/mimis-cafe-menu-prices/'}, {'name': 'Minard’s Spaghetti', 'url': 'https://www.fastfoodmenuprices.com/minards-spaghetti-menu-prices/'}, {'name': 'Ming Garden', 'url': 'https://www.fastfoodmenuprices.com/ming-garden-menu-prices/'}, {'name': 'Mission BBQ', 'url': 'https://www.fastfoodmenuprices.com/mission-bbq-prices/'}, {'name': 'Miyabi Jr', 'url': 'https://www.fastfoodmenuprices.com/miyabi-jr-menu-prices/'}, {'name': 'MOD Pizza Menu Prices', 'url': 'https://www.fastfoodmenuprices.com/mod-pizza-menu-prices/'}, {'name': 'Moe’s', 'url': 'https://www.fastfoodmenuprices.com/moes-prices/'}, {'name': 'Mojo’s', 'url': 'https://www.fastfoodmenuprices.com/mojos-menu-prices/'}, {'name': 'Mooyah', 'url': 'https://www.fastfoodmenuprices.com/mooyah-prices/'}, {'name': 'Morton’s Steakhouse', 'url': 'https://www.fastfoodmenuprices.com/mortons-steakhouse-menu-prices/'}, {'name': 'Mountain Mike’s Pizza', 'url': 'https://www.fastfoodmenuprices.com/mountain-mikes-pizza-prices/'}, {'name': 'Movie Tavern', 'url': 'https://www.fastfoodmenuprices.com/movie-tavern-menu-prices/'}, {'name': 'Mugshots Grill & Bar', 'url': 'https://www.fastfoodmenuprices.com/mugshots-grill-bar-prices/'}, {'name': 'Nancy’s Pizza', 'url': 'https://www.fastfoodmenuprices.com/nancys-pizza-menu-prices/'}, {'name': 'Newk’s', 'url': 'https://www.fastfoodmenuprices.com/newks-menu-prices/'}, {'name': 'Noodle House', 'url': 'https://www.fastfoodmenuprices.com/noodle-house-menu-prices/'}, {'name': 'Noodles & Company', 'url': 'https://www.fastfoodmenuprices.com/noodles-company-prices/'}, {'name': 'Nothing Bundt Cakes', 'url': 'https://www.fastfoodmenuprices.com/nothing-bundt-cakes-prices/'}, {'name': 'Norms', 'url': 'https://www.fastfoodmenuprices.com/norms-menu-prices/'}, {'name': 'Oberweis', 'url': 'https://www.fastfoodmenuprices.com/oberweis-prices/'}, {'name': 'O’Charley’s Restaurant And Bar', 'url': 'https://www.fastfoodmenuprices.com/ocharleys-menu-prices/'}, {'name': 'Old Chicago', 'url': 'https://www.fastfoodmenuprices.com/old-chicago-menu-prices/'}, {'name': 'Old Country Buffet Menu Prices', 'url': 'https://www.fastfoodmenuprices.com/old-country-buffet-menu-prices/'}, {'name': 'Olive Garden', 'url': 'https://www.fastfoodmenuprices.com/olive-garden-prices/'}, {'name': 'On The Border', 'url': 'https://www.fastfoodmenuprices.com/on-the-border-prices/'}, {'name': 'Orange Leaf', 'url': 'https://www.fastfoodmenuprices.com/orange-leaf-prices/'}, {'name': 'Outback Steakhouse', 'url': 'https://www.fastfoodmenuprices.com/outback-steakhouse-prices/'}, {'name': 'Pancheros', 'url': 'https://www.fastfoodmenuprices.com/pancheros-prices/'}, {'name': 'Panda Express', 'url': 'https://www.fastfoodmenuprices.com/panda-express-prices/'}, {'name': 'Panera Bread', 'url': 'https://www.fastfoodmenuprices.com/panera-bread-prices/'}, {'name': 'Papa Gino’s', 'url': 'https://www.fastfoodmenuprices.com/papa-ginos-menu-prices/'}, {'name': 'Papa John’s', 'url': 'https://www.fastfoodmenuprices.com/papa-johns-prices/'}, {'name': 'Pappadeaux', 'url': 'https://www.fastfoodmenuprices.com/pappadeaux-menu-prices/'}, {'name': 'Papa Murphy’s', 'url': 'https://www.fastfoodmenuprices.com/papa-murphys-prices/'}, {'name': 'PDQ', 'url': 'https://www.fastfoodmenuprices.com/pdq-prices/'}, {'name': 'Peet’s Coffee', 'url': 'https://www.fastfoodmenuprices.com/peets-coffee-menu-prices/'}, {'name': 'Pei Wei', 'url': 'https://www.fastfoodmenuprices.com/pei-wei-prices/'}, {'name': 'Penn Station', 'url': 'https://www.fastfoodmenuprices.com/penn-station-prices/'}, {'name': 'Perkins Restaurant & Bakery', 'url': 'https://www.fastfoodmenuprices.com/perkins-menu-prices/'}, {'name': 'Peter Luger', 'url': 'https://www.fastfoodmenuprices.com/peter-luger-menu-prices/'}, {'name': 'Peter Piper Pizza', 'url': 'https://www.fastfoodmenuprices.com/peter-piper-pizza-prices/'}, {'name': 'P.F. Chang’s', 'url': 'https://www.fastfoodmenuprices.com/p-f-changs-prices/'}, {'name': 'Philly Connection', 'url': 'https://www.fastfoodmenuprices.com/philly-connection-prices/'}, {'name': 'Philly Pretzel Factory', 'url': 'https://www.fastfoodmenuprices.com/philly-pretzel-factory-prices/'}, {'name': 'Piada', 'url': 'https://www.fastfoodmenuprices.com/piada-menu-prices/'}, {'name': 'Pie Five', 'url': 'https://www.fastfoodmenuprices.com/pie-five-prices/'}, {'name': 'Pieology', 'url': 'https://www.fastfoodmenuprices.com/pieology-prices/'}, {'name': 'Pinkberry', 'url': 'https://www.fastfoodmenuprices.com/pinkberry-prices/'}, {'name': 'Pita Pit', 'url': 'https://www.fastfoodmenuprices.com/pita-pit-prices/'}, {'name': 'Pizza Express', 'url': 'https://www.fastfoodmenuprices.com/pizza-express-menu-prices/'}, {'name': 'Pizza Factory', 'url': 'https://www.fastfoodmenuprices.com/pizza-factory-prices/'}, {'name': 'Pizza Hut', 'url': 'https://www.fastfoodmenuprices.com/pizza-hut-prices/'}, {'name': 'Pizza Schmizza', 'url': 'https://www.fastfoodmenuprices.com/pizza-schmizza-menu-prices/'}, {'name': 'Pollo Regio', 'url': 'https://www.fastfoodmenuprices.com/pollo-regio-menu-prices/'}, {'name': 'Polly’s Pies', 'url': 'https://www.fastfoodmenuprices.com/pollys-pies-menu-prices/'}, {'name': 'Primanti Brothers', 'url': 'https://www.fastfoodmenuprices.com/primanti-brothers-menu-prices/'}, {'name': 'Mayflower', 'url': 'https://www.fastfoodmenuprices.com/mayflower-menu-prices-2021/'}, {'name': 'Pizza Inn', 'url': 'https://www.fastfoodmenuprices.com/pizza-inn-prices/'}, {'name': 'Pizza Patron', 'url': 'https://www.fastfoodmenuprices.com/pizza-patron-prices/'}, {'name': 'Pizza Ranch', 'url': 'https://www.fastfoodmenuprices.com/pizza-ranch-prices/'}, {'name': 'PizzaRev', 'url': 'https://www.fastfoodmenuprices.com/pizzarev-prices/'}, {'name': 'Pizza Schmizza', 'url': 'https://www.fastfoodmenuprices.com/pizza-schmizza-menu-prices/'}, {'name': 'Planet Sub', 'url': 'https://www.fastfoodmenuprices.com/planet-sub-menu-prices/'}, {'name': 'Planet Smoothie', 'url': 'https://www.fastfoodmenuprices.com/planet-smoothie-prices/'}, {'name': 'Pluckers', 'url': 'https://www.fastfoodmenuprices.com/pluckers-menu-prices/'}, {'name': 'Pollo Campero', 'url': 'https://www.fastfoodmenuprices.com/pollo-campero-prices/'}, {'name': 'Pollo Regio', 'url': 'https://www.fastfoodmenuprices.com/pollo-regio-menu-prices/'}, {'name': 'Pollo Tropical', 'url': 'https://www.fastfoodmenuprices.com/pollo-tropical-prices/'}, {'name': 'Polly’s Pies', 'url': 'https://www.fastfoodmenuprices.com/pollys-pies-menu-prices/'}, {'name': 'Ponderosa', 'url': 'https://www.fastfoodmenuprices.com/ponderosa-menu-prices/'}, {'name': 'Popeyes', 'url': 'https://www.fastfoodmenuprices.com/popeyes-prices/'}, {'name': 'Portillo’s', 'url': 'https://www.fastfoodmenuprices.com/portillos-menu-prices/'}, {'name': 'Potbelly', 'url': 'https://www.fastfoodmenuprices.com/potbelly-prices/'}, {'name': 'Primo Hoagies', 'url': 'https://www.fastfoodmenuprices.com/primo-hoagies-prices/'}, {'name': 'Project Pie', 'url': 'https://www.fastfoodmenuprices.com/project-pie-prices/'}, {'name': 'Qdoba', 'url': 'https://www.fastfoodmenuprices.com/qdoba-prices/'}, {'name': 'Quiznos', 'url': 'https://www.fastfoodmenuprices.com/quiznos-prices/'}, {'name': 'Rafferty’s', 'url': 'https://www.fastfoodmenuprices.com/raffertys-menu-prices/'}, {'name': 'Rainforest Cafe', 'url': 'https://www.fastfoodmenuprices.com/rainforest-cafe-menu-prices/'}, {'name': 'Raising Cane’s', 'url': 'https://www.fastfoodmenuprices.com/raising-canes-prices/'}, {'name': 'Rally’s', 'url': 'https://www.fastfoodmenuprices.com/checkers-rallys-prices/'}, {'name': 'Red Mango', 'url': 'https://www.fastfoodmenuprices.com/red-mango-prices/'}, {'name': 'Red Lobster', 'url': 'https://www.fastfoodmenuprices.com/red-lobster-prices/'}, {'name': 'Red Robin', 'url': 'https://www.fastfoodmenuprices.com/red-robin-prices/'}, {'name': 'RibCrib', 'url': 'https://www.fastfoodmenuprices.com/ribcrib-menu-prices/'}, {'name': 'Robeks', 'url': 'https://www.fastfoodmenuprices.com/robeks-prices/'}, {'name': 'Romano’s Macaroni Grill', 'url': 'https://www.fastfoodmenuprices.com/romanos-macaroni-grill-menu-prices/'}, {'name': 'Round Table Pizza', 'url': 'https://www.fastfoodmenuprices.com/round-table-pizza-prices/'}, {'name': 'Rosa’s Cafe', 'url': 'https://www.fastfoodmenuprices.com/rosas-cafe-menu-prices/'}, {'name': 'Roy Rogers', 'url': 'https://www.fastfoodmenuprices.com/roy-rogers-menu-prices/'}, {'name': 'Rubio’s', 'url': 'https://www.fastfoodmenuprices.com/rubios-prices/'}, {'name': 'Ruby Tuesday', 'url': 'https://www.fastfoodmenuprices.com/ruby-tuesday-menu-prices/'}, {'name': 'Rudy’s', 'url': 'https://www.fastfoodmenuprices.com/rudys-menu-prices/'}, {'name': 'Runza', 'url': 'https://www.fastfoodmenuprices.com/runza-menu-prices/'}, {'name': 'Ruth’s Chris Steakhouse', 'url': 'https://www.fastfoodmenuprices.com/ruths-chris-steakhouse-menu-prices/'}, {'name': 'Sagebrush Steakhouse', 'url': 'https://www.fastfoodmenuprices.com/sagebrush-steakhouse-menu-prices/'}, {'name': 'Saladworks', 'url': 'https://www.fastfoodmenuprices.com/saladworks-prices/'}, {'name': 'Salad & Go', 'url': 'https://www.fastfoodmenuprices.com/salad-go-menu-prices/'}, {'name': 'Salata', 'url': 'https://www.fastfoodmenuprices.com/salata-menu-prices/'}, {'name': 'Saltgrass', 'url': 'https://www.fastfoodmenuprices.com/saltgrass-menu-prices/'}, {'name': 'Santiago’s', 'url': 'https://www.fastfoodmenuprices.com/santiagos-menu-prices/'}, {'name': 'Sbarro', 'url': 'https://www.fastfoodmenuprices.com/sbarro-prices/'}, {'name': 'Schlotzsky’s', 'url': 'https://www.fastfoodmenuprices.com/schlotzskys-prices/'}, {'name': 'Shake Shack', 'url': 'https://www.fastfoodmenuprices.com/shake-shack-prices/'}, {'name': 'Sharetea', 'url': 'https://www.fastfoodmenuprices.com/sharetea-menu-prices/'}, {'name': 'Shari’s', 'url': 'https://www.fastfoodmenuprices.com/sharis-menu-prices/'}, {'name': 'Sharks Fish and Chicken', 'url': 'https://www.fastfoodmenuprices.com/sharks-fish-and-chicken-prices/'}, {'name': 'Sheetz', 'url': 'https://www.fastfoodmenuprices.com/sheetz-prices/'}, {'name': 'Shrimp Basket', 'url': 'https://www.fastfoodmenuprices.com/shrimp-basket-menu-prices/'}, {'name': 'Shoney’s Buffet', 'url': 'https://www.fastfoodmenuprices.com/shoneys-buffet-menu-prices/'}, {'name': 'Showmars', 'url': 'https://www.fastfoodmenuprices.com/showmars-menu-prices/'}, {'name': 'Sizzler', 'url': 'https://www.fastfoodmenuprices.com/sizzler-menu-prices/'}, {'name': 'Smashburger', 'url': 'https://www.fastfoodmenuprices.com/smashburger-prices/'}, {'name': 'Smokey Bones', 'url': 'https://www.fastfoodmenuprices.com/smokey-bones-menu-prices/'}, {'name': 'Smoothie King', 'url': 'https://www.fastfoodmenuprices.com/smoothie-king-prices/'}, {'name': 'Sonic', 'url': 'https://www.fastfoodmenuprices.com/sonic-prices/'}, {'name': 'Sonny’s BBQ', 'url': 'https://www.fastfoodmenuprices.com/sonnys-bbq-prices/'}, {'name': 'Souplantation', 'url': 'https://www.fastfoodmenuprices.com/souplantation-menu-prices/'}, {'name': 'Spring Creek Barbeque', 'url': 'https://www.fastfoodmenuprices.com/spring-creek-barbeque-menu-prices/'}, {'name': 'Snappy Tomato', 'url': 'https://www.fastfoodmenuprices.com/snappy-tomato-menu-prices/'}, {'name': 'Snooze', 'url': 'https://www.fastfoodmenuprices.com/snooze-menu-prices/'}, {'name': 'Starbucks', 'url': 'https://www.fastfoodmenuprices.com/starbucks-prices/'}, {'name': 'Steak ‘n Shake', 'url': 'https://www.fastfoodmenuprices.com/steak-n-shake-prices/'}, {'name': 'Streets Of New York', 'url': 'https://www.fastfoodmenuprices.com/streets-of-new-york-menu-prices/'}, {'name': 'Sub Zero Ice Cream', 'url': 'https://www.fastfoodmenuprices.com/sub-zero-ice-cream-prices/'}, {'name': 'Subway', 'url': 'https://www.fastfoodmenuprices.com/subway-prices/'}, {'name': 'Sushi Ai', 'url': 'https://www.fastfoodmenuprices.com/sushi-ai-menu-prices/'}, {'name': 'Stoney River', 'url': 'https://www.fastfoodmenuprices.com/stoney-river-menu-prices/'}, {'name': 'St. Louis Pizza & Wings', 'url': 'https://www.fastfoodmenuprices.com/st-louis-pizza-wings-menu-prices/'}, {'name': 'Stonefire Grill', 'url': 'https://www.fastfoodmenuprices.com/stonefire-grill-menu-prices/'}, {'name': 'Sweet Frog', 'url': 'https://www.fastfoodmenuprices.com/sweet-frog-prices/'}, {'name': 'Sweetgreen', 'url': 'https://www.fastfoodmenuprices.com/sweetgreen-prices/'}, {'name': 'Sweet Tomatoes', 'url': 'https://www.fastfoodmenuprices.com/sweet-tomatoes-menu-prices/'}, {'name': 'Swensons', 'url': 'https://www.fastfoodmenuprices.com/swensons-menu-prices/'}, {'name': 'Taco Bell', 'url': 'https://www.fastfoodmenuprices.com/taco-bell-prices/'}, {'name': 'Taco Bueno', 'url': 'https://www.fastfoodmenuprices.com/taco-bueno-prices/'}, {'name': 'Taco Cabana', 'url': 'https://www.fastfoodmenuprices.com/taco-cabana-prices/'}, {'name': 'Taco Casa', 'url': 'https://www.fastfoodmenuprices.com/taco-casa-prices/'}, {'name': 'Taco John’s', 'url': 'https://www.fastfoodmenuprices.com/taco-johns-prices/'}, {'name': 'Taco King', 'url': 'https://www.fastfoodmenuprices.com/taco-king-menu-prices/'}, {'name': 'Taco Mac', 'url': 'https://www.fastfoodmenuprices.com/taco-mac-menu-prices/'}, {'name': 'Taco Time', 'url': 'https://www.fastfoodmenuprices.com/taco-time-prices/'}, {'name': 'Taqueria Jalisco', 'url': 'https://www.fastfoodmenuprices.com/taqueria-jalisco-menu-prices/'}, {'name': 'Taziki’s', 'url': 'https://www.fastfoodmenuprices.com/tazikis-menu-prices/'}, {'name': 'TCBY', 'url': 'https://www.fastfoodmenuprices.com/tcby-prices/'}, {'name': 'TGI Fridays', 'url': 'https://www.fastfoodmenuprices.com/tgi-fridays-menu-prices/'}, {'name': 'Texas de Brazil', 'url': 'https://www.fastfoodmenuprices.com/texas-de-brazil-menu-prices/'}, {'name': 'Texas Roadhouse', 'url': 'https://www.fastfoodmenuprices.com/texas-roadhouse-prices/'}, {'name': 'The Habit Burger', 'url': 'https://www.fastfoodmenuprices.com/the-habit-burger-prices/'}, {'name': 'The Old Spaghetti Factory', 'url': 'https://www.fastfoodmenuprices.com/the-old-spaghetti-factory-menu-prices/'}, {'name': 'Tilted Kilt', 'url': 'https://www.fastfoodmenuprices.com/tilted-kilt-menu-prices/'}, {'name': 'Tim Hortons', 'url': 'https://www.fastfoodmenuprices.com/tim-hortons-prices/'}, {'name': 'Toppers Pizza', 'url': 'https://www.fastfoodmenuprices.com/toppers-pizza-prices/'}, {'name': 'Togo’s', 'url': 'https://www.fastfoodmenuprices.com/togos-prices/'}, {'name': 'Tokyo Joe’s', 'url': 'https://www.fastfoodmenuprices.com/tokyo-joes-menu-prices/'}, {'name': 'Torchy’s Tacos', 'url': 'https://www.fastfoodmenuprices.com/torchys-tacos-menu-prices/'}, {'name': 'Tropical Smoothie', 'url': 'https://www.fastfoodmenuprices.com/tropical-smoothie-prices/'}, {'name': 'Tucanos', 'url': 'https://www.fastfoodmenuprices.com/tucanos-menu-prices/'}, {'name': 'Tutti Frutti', 'url': 'https://www.fastfoodmenuprices.com/tutti-frutti-prices/'}, {'name': 'Twin Peaks', 'url': 'https://www.fastfoodmenuprices.com/twin-peaks-menu-prices/'}, {'name': 'Veggie Grill', 'url': 'https://www.fastfoodmenuprices.com/veggie-grill-menu-prices/'}, {'name': 'Village Inn', 'url': 'https://www.fastfoodmenuprices.com/village-inn-menu-prices/'}, {'name': 'Vinny’s Pizza', 'url': 'https://www.fastfoodmenuprices.com/vinnys-pizza-menu-prices/'}, {'name': 'Volcano Sushi', 'url': 'https://www.fastfoodmenuprices.com/volcano-sushi-menu-prices/'}, {'name': 'WaBa Grill', 'url': 'https://www.fastfoodmenuprices.com/waba-grill-prices/'}, {'name': 'Wade’s', 'url': 'https://www.fastfoodmenuprices.com/wades-menu-prices/'}, {'name': 'Wade’s Cafe', 'url': 'https://www.fastfoodmenuprices.com/wades-cafe-menu-prices/'}, {'name': 'Waffle House', 'url': 'https://www.fastfoodmenuprices.com/waffle-house-menu-prices/'}, {'name': 'Wahlburgers', 'url': 'https://www.fastfoodmenuprices.com/wahlburgers-menu-prices/'}, {'name': 'Walk On’s', 'url': 'https://www.fastfoodmenuprices.com/walk-ons-menu-prices/'}, {'name': 'Wawa', 'url': 'https://www.fastfoodmenuprices.com/wawa-prices/'}, {'name': 'Wendy’s', 'url': 'https://www.fastfoodmenuprices.com/wendys-prices/'}, {'name': 'Westshore Pizza', 'url': 'https://www.fastfoodmenuprices.com/westshore-pizza-menu-prices/'}, {'name': 'Whataburger', 'url': 'https://www.fastfoodmenuprices.com/whataburger-prices/'}, {'name': 'Which Wich', 'url': 'https://www.fastfoodmenuprices.com/which-wich-prices/'}, {'name': 'White Castle', 'url': 'https://www.fastfoodmenuprices.com/white-castle-prices/'}, {'name': 'Wicked Spoon', 'url': 'https://www.fastfoodmenuprices.com/wicked-spoon-menu-prices/'}, {'name': 'Wienerschnitzel', 'url': 'https://www.fastfoodmenuprices.com/wienerschnitzel-prices/'}, {'name': 'WingHouse Bar & Grill', 'url': 'https://www.fastfoodmenuprices.com/winghouse-bar-grill-menu-prices/'}, {'name': 'Wings N’ Things', 'url': 'https://www.fastfoodmenuprices.com/wings-n-things-menu-prices/'}, {'name': 'Wingstop', 'url': 'https://www.fastfoodmenuprices.com/wingstop-prices/'}, {'name': 'Winking Lizard Tavern', 'url': 'https://www.fastfoodmenuprices.com/winking-lizard-taverns-menu-prices-2021/'}, {'name': 'Wing Zone', 'url': 'https://www.fastfoodmenuprices.com/wing-zone-menu-prices/'}, {'name': 'Wood Grill Buffet', 'url': 'https://www.fastfoodmenuprices.com/wood-grill-buffet-menu-prices/'}, {'name': 'Wynn Buffet', 'url': 'https://www.fastfoodmenuprices.com/wynn-buffet-menu-prices/'}, {'name': 'Yamato Japan', 'url': 'https://www.fastfoodmenuprices.com/yamato-japans-menu-prices-2021/'}, {'name': 'Yard House', 'url': 'https://www.fastfoodmenuprices.com/yard-house-menu-prices/'}, {'name': 'Yogurtland', 'url': 'https://www.fastfoodmenuprices.com/yogurtland-prices/'}, {'name': 'Yoshinoya', 'url': 'https://www.fastfoodmenuprices.com/yoshinoya-menu-prices/'}, {'name': 'Zaxby’s', 'url': 'https://www.fastfoodmenuprices.com/zaxbys-prices/'}, {'name': 'Zoes Kitchen', 'url': 'https://www.fastfoodmenuprices.com/zoes-kitchen-prices/'}, {'name': 'Zoup!', 'url': 'https://www.fastfoodmenuprices.com/zoup-prices/'}, {'name': 'Burger King UK', 'url': 'https://www.fastfoodmenuprices.com/uk/burger-king-menu-prices-uk/'}, {'name': 'Chipotle UK', 'url': 'https://www.fastfoodmenuprices.com/uk/chipotle-menu-prices-uk/'}, {'name': 'Five Guys UK', 'url': 'https://www.fastfoodmenuprices.com/uk/five-guys-menu-prices-uk/'}, {'name': 'KFC UK', 'url': 'https://www.fastfoodmenuprices.com/uk/kfc-menu-prices-uk/'}, {'name': 'Krispy Kreme UK', 'url': 'https://www.fastfoodmenuprices.com/uk/krispy-kreme-menu-prices-uk/'}, {'name': 'McDonalds UK', 'url': 'https://www.fastfoodmenuprices.com/uk/mcdonalds-menu-prices-uk/'}, {'name': 'Pizza Hut UK', 'url': 'https://www.fastfoodmenuprices.com/uk/pizza-hut-menu-prices-uk/'}, {'name': 'Starbucks UK', 'url': 'https://www.fastfoodmenuprices.com/uk/starbucks-menu-prices-uk/'}, {'name': 'Subway UK', 'url': 'https://www.fastfoodmenuprices.com/uk/subway-menu-prices-uk/'}, {'name': 'Chick-fil-A Catering', 'url': 'https://www.fastfoodmenuprices.com/chick-fil-a-catering-prices/'}, {'name': 'Chipotle Catering', 'url': 'https://www.fastfoodmenuprices.com/chipotle-catering-prices/'}, {'name': 'Panera Bread Catering', 'url': 'https://www.fastfoodmenuprices.com/panera-bread-catering-prices/'}, {'name': 'Qdoba Catering', 'url': 'https://www.fastfoodmenuprices.com/qdoba-catering-prices/'}, {'name': 'Subway Catering', 'url': 'https://www.fastfoodmenuprices.com/subway-catering-prices/'}, {'name': 'Arby’s', 'url': 'https://www.fastfoodmenuprices.com/arbys-prices/'}, {'name': 'Burger King', 'url': 'https://www.fastfoodmenuprices.com/burger-king-prices/'}, {'name': 'Chick-fil-A', 'url': 'https://www.fastfoodmenuprices.com/chick-fil-a-prices/'}, {'name': 'Chipotle', 'url': 'https://www.fastfoodmenuprices.com/chipotle-prices/'}, {'name': 'Domino’s', 'url': 'https://www.fastfoodmenuprices.com/dominos-prices/'}, {'name': 'Dunkin’ Donuts', 'url': 'https://www.fastfoodmenuprices.com/dunkin-donuts-prices/'}, {'name': 'Five Guys', 'url': 'https://www.fastfoodmenuprices.com/five-guys-prices/'}, {'name': 'KFC', 'url': 'https://www.fastfoodmenuprices.com/kfc-prices/'}, {'name': 'McDonald’s', 'url': 'https://www.fastfoodmenuprices.com/mcdonalds-prices/'}, {'name': 'Panera Bread', 'url': 'https://www.fastfoodmenuprices.com/panera-bread-prices/'}, {'name': 'Pizza Hut', 'url': 'https://www.fastfoodmenuprices.com/pizza-hut-prices/'}, {'name': 'Popeyes', 'url': 'https://www.fastfoodmenuprices.com/popeyes-prices/'}, {'name': 'Starbucks', 'url': 'https://www.fastfoodmenuprices.com/starbucks-prices/'}, {'name': 'Subway', 'url': 'https://www.fastfoodmenuprices.com/subway-prices/'}, {'name': 'Taco Bell', 'url': 'https://www.fastfoodmenuprices.com/taco-bell-prices/'}, {'name': 'Wendy’s', 'url': 'https://www.fastfoodmenuprices.com/wendys-prices/'}, {'name': 'Whataburger', 'url': 'https://www.fastfoodmenuprices.com/whataburger-prices/'}, {'name': 'White Castle', 'url': 'https://www.fastfoodmenuprices.com/white-castle-prices/'}, {'name': 'View All Restaurants', 'url': 'https://www.fastfoodmenuprices.com/all-restaurants/'}]\n"
     ]
    }
   ],
   "source": [
    "menus = getmenus()\n",
    "print(menus)\n"
   ]
  },
  {
   "cell_type": "code",
   "execution_count": 91,
   "metadata": {},
   "outputs": [],
   "source": [
    "def getmenu(addr):\n",
    "    soup = getsoup(addr)\n",
    "    \n",
    "    isweird = False\n",
    "\n",
    "    names = soup.findAll('td', class_=\"column-1\")\n",
    "    \n",
    "    prices = soup.findAll('td', class_=\"column-3\")\n",
    "    \n",
    "    if len(prices)==0:\n",
    "        \n",
    "        isweird = True\n",
    "        prices = soup.findAll('td', class_=\"column-2\")\n",
    "\n",
    "\n",
    "    menu = []\n",
    "\n",
    "    for i in range(0,len(prices)):\n",
    "        if names[i].findAll('h2') == []:\n",
    "            menu.append({'item':names[i].text, 'price':prices[i].text})\n",
    "        elif names[i].findAll('b') is not []:\n",
    "            try:\n",
    "                menu.append({'item':names[i].find('b').text, 'price':prices[i].find('span') .text})\n",
    "            except:\n",
    "                \"\"\n",
    "    return menu\n",
    "\n",
    "men = getmenu(menus[3]['url'])"
   ]
  },
  {
   "cell_type": "code",
   "execution_count": 92,
   "metadata": {},
   "outputs": [
    {
     "name": "stdout",
     "output_type": "stream",
     "text": [
      "{'item': 'Garden Salad', 'price': '$6.49'}\n",
      "{'item': 'Crispy Chicken Salad', 'price': '$6.49'}\n",
      "{'item': 'Chef Salad', 'price': '$6.99'}\n",
      "{'item': 'Tilapia Fish Salad\\nFried or grilled', 'price': '$6.49'}\n",
      "{'item': 'Cheese Steak Salad', 'price': '$6.49'}\n",
      "{'item': 'Grilled Chicken Salad', 'price': '$7.49'}\n",
      "{'item': 'Catfish Salad\\nFried or grilled', 'price': '$7.99'}\n",
      "{'item': 'Shrimp Salad', 'price': '$3.49 - $139.99'}\n",
      "{'item': 'Buffalo Wings\\nBone-in, price depends on the number of wings', 'price': '$3.99 - $64.99'}\n",
      "{'item': 'Buffalo Wing Combo\\nWith fries & 20 oz. drink', 'price': '$9.49'}\n",
      "{'item': 'Boneless Wings\\nPrice depends on the number of wings.', 'price': '$5.99'}\n",
      "{'item': 'Boneless Wings Combo\\nComes with fries & 20 oz. drink', 'price': 'Sm - $5.39\\n$7.99'}\n",
      "{'item': \"Boneless Kid's Meal\\n5 pieces boneless wings, fries, and drink\", 'price': 'Sm - $5.39\\n$7.99'}\n",
      "{'item': 'Steak Wrap', 'price': 'Sm - $5.99\\n$8.89'}\n",
      "{'item': 'Caesar Wrap', 'price': 'Sm - $5.39\\n$7.99'}\n",
      "{'item': 'Buffalo Chicken Wrap', 'price': 'Sm - $5.39\\n$7.99'}\n",
      "{'item': 'Catfish Wrap', 'price': 'Sm - $5.39\\n$7.99'}\n",
      "{'item': 'Chicken Wrap', 'price': 'Sm - $5.99\\n$8.89'}\n",
      "{'item': 'Veggie Wrap', 'price': 'Sm - $5.99\\n$8.99'}\n",
      "{'item': 'Club Wrap', 'price': 'Sm - $5.99\\n$8.99'}\n",
      "{'item': 'Tilapia Wrap', 'price': 'Sm - $5.99\\n$8.99'}\n",
      "{'item': 'Hot Turkey Ham', 'price': 'Sm - $5.99\\n$8.99'}\n",
      "{'item': 'Hot Turkey Breast', 'price': 'Sm - $5.99\\n$8.99'}\n",
      "{'item': \"Chef's Club\\nTurkey & turkey ham\", 'price': '$5.19 \\nMeal - $7.99'}\n",
      "{'item': 'Cold Turkey Ham', 'price': '$5.19 \\nMeal - $7.99'}\n",
      "{'item': 'Cold Turkey Breast', 'price': '$5.19 \\nMeal - $7.99'}\n",
      "{'item': 'American Club\\nTurkey, turkey ham, & bacon', 'price': '$5.19 \\nMeal - $7.99'}\n",
      "{'item': 'Cheeseburger', 'price': '$5.19 \\nMeal - $7.99'}\n",
      "{'item': 'Turkey Burger', 'price': '$5.19 \\nMeal - $7.99'}\n",
      "{'item': 'Buffalo Chicken Burger', 'price': '$5.19 \\nMeal - $7.99'}\n",
      "{'item': 'Catfish Sandwich\\nFried or grilled', 'price': '$5.19 \\nMeal - $7.99'}\n",
      "{'item': 'Steak Bulldog\\nserved with mushrooms, grilled onions, green peppers, cheese, hot dog and steak', 'price': '$5.19 \\nMeal - $7.99'}\n",
      "{'item': 'Grilled Chicken Sandwich\\nDescription', 'price': 'Sm - $5.39\\n$7.99'}\n",
      "{'item': 'Veggie Burger', 'price': 'Sm - $5.19\\n$7.99'}\n",
      "{'item': 'American Burger', 'price': 'Sm - $5.99\\n$8.39'}\n",
      "{'item': 'Tilapia Sandwich', 'price': 'Sm - $5.19\\n$7.99'}\n",
      "{'item': 'Chicken Dog\\nserved with mushrooms, grilled onions, green peppers, cheese, hot dog, and chicken', 'price': 'Sm - $5.99\\n$8.89'}\n",
      "{'item': 'Philly Cheese Steak Sub', 'price': '$4.59 - $9.99\\n*Size dependent'}\n",
      "{'item': 'Buffalo Chicken Sub', 'price': '$7.99'}\n",
      "{'item': 'Tilapia Sub', 'price': '$25.99 - $30.99'}\n",
      "{'item': 'Grilled Chicken Sub', 'price': '$11.99 - $27.99'}\n",
      "{'item': 'Catfish Sub\\nGrilled or fried', 'price': '$10.99'}\n",
      "{'item': 'Grilled Shrimp Sub', 'price': '$9.99 - $17.99'}\n",
      "{'item': 'Chicken Tenders', 'price': '$4.59 - $8.99\\n*Size-dependent'}\n",
      "{'item': 'Chicken Tender Combo\\nWith fries & 20 oz. drink', 'price': '$8.99'}\n",
      "{'item': 'Sea Trout', 'price': '$7.99'}\n",
      "{'item': 'Tilapia', 'price': '$10.99'}\n",
      "{'item': 'Fish & Wings Combo\\n2 pieces of fish, 5 wings', 'price': '$9.99'}\n",
      "{'item': 'Whiting', 'price': '$1.59 - $2.99'}\n",
      "{'item': 'Catfish', 'price': '$1.79'}\n",
      "{'item': 'Grilled Shrimp\\nWith rice', 'price': '$1.59'}\n",
      "{'item': 'Grilled Shrimp Combo\\nWith fries & 20 oz. drink', 'price': '$2.49'}\n",
      "{'item': 'Butterfly Shrimp\\nOnly shrimp', 'price': '$3.59'}\n",
      "{'item': 'Butterfly Shrimp Combo\\nWith fries & 20 oz. drink', 'price': '$2.59'}\n",
      "{'item': 'Seafood Special\\n2pc fish & 5pc shrimp with rice or fries & 20 oz drink', 'price': '$2.59'}\n",
      "{'item': 'Fish & Shrimp Combo\\nWith fries & 20 oz. drink', 'price': '$1.99 - $2.99'}\n",
      "{'item': 'Fries', 'price': '$2.59'}\n",
      "{'item': 'Coleslaw', 'price': '$2.99'}\n",
      "{'item': 'Crabsticks', 'price': '$3.59'}\n",
      "{'item': 'Garlic Bread', 'price': '$2.99'}\n",
      "{'item': 'Hush Puppies', 'price': '$2.99'}\n",
      "{'item': 'Jalapeno Cheese', 'price': '$2.99'}\n",
      "{'item': 'Fried Mushrooms', 'price': '$2.99'}\n",
      "{'item': 'Okra', 'price': '$2.99'}\n",
      "{'item': 'Dirty Rice', 'price': '$2.99'}\n",
      "{'item': 'Onion Rings', 'price': '$3.49'}\n"
     ]
    }
   ],
   "source": [
    "for m in men:\n",
    "    print(m)"
   ]
  },
  {
   "cell_type": "code",
   "execution_count": 98,
   "metadata": {},
   "outputs": [],
   "source": [
    "addr = \"https://www.allrecipes.com/search/results/?search=veggie+burger\"\n",
    "\n",
    "soup = getsoup(addr)\n",
    "\n",
    "items = soup.findAll('div', role=\"listitem\")"
   ]
  },
  {
   "cell_type": "code",
   "execution_count": 110,
   "metadata": {},
   "outputs": [
    {
     "name": "stdout",
     "output_type": "stream",
     "text": [
      "something wrong\n"
     ]
    }
   ],
   "source": [
    "alternatives = []\n",
    "\n",
    "for i in range(0, len(items)):\n",
    "    tmp = {}\n",
    "    tmp['name'] = items[i].find('img')['alt']\n",
    "    tmp['img'] = items[i].find('img')['src']\n",
    "    try:\n",
    "        tmp['details'] = items[i].find(\"a\", title = items[i].find('img')['alt'])['href']\n",
    "    except:\n",
    "        print(\"something wrong\")\n",
    "    alternatives.append(tmp)"
   ]
  },
  {
   "cell_type": "code",
   "execution_count": 127,
   "metadata": {},
   "outputs": [
    {
     "name": "stdout",
     "output_type": "stream",
     "text": [
      "['½ cup uncooked brown rice', '1 cup water', '2 (16 ounce) cans black beans, rinsed and drained', '1  green bell pepper, halved and seeded', '1  onion, quartered', '½ cup sliced mushrooms', '6 cloves garlic, peeled', '¾ cup shredded mozzarella cheese', '2  eggs', '1 tablespoon chili powder', '1 tablespoon ground cumin', '1 tablespoon garlic salt', '1 teaspoon hot sauce', '½ cup dry bread crumbs, or as needed']\n"
     ]
    }
   ],
   "source": [
    "try:\n",
    "    sup = getsoup(alternatives[4]['details'])\n",
    "\n",
    "    items = sup.findAll('span', class_=\"ingredients-item-name\")\n",
    "\n",
    "    ingredients = []\n",
    "    for i in range(0, len(items)):\n",
    "        ingredients.append(items[i].text.strip())\n",
    "\n",
    "    print(ingredients)\n",
    "except:\n",
    "    print(\"smth wrong\")"
   ]
  },
  {
   "cell_type": "code",
   "execution_count": 125,
   "metadata": {},
   "outputs": [
    {
     "data": {
      "text/plain": [
       "[{'name': 'All-Star Veggie Burger',\n",
       "  'img': 'https://imagesvc.meredithcorp.io/v3/mm/image?url=https%3A%2F%2Fimages.media-allrecipes.com%2Fuserphotos%2F747842.jpg',\n",
       "  'details': 'https://www.allrecipes.com/recipe/81532/all-star-veggie-burger/'},\n",
       " {'name': 'Black Bean Quinoa Veggie Burgers',\n",
       "  'img': 'https://imagesvc.meredithcorp.io/v3/mm/image?url=https%3A%2F%2Fimages.media-allrecipes.com%2Fuserphotos%2F3121000.jpg',\n",
       "  'details': 'https://www.allrecipes.com/recipe/245799/black-bean-quinoa-veggie-burgers/'},\n",
       " {'name': 'Best Ever Veggie Burgers',\n",
       "  'img': 'https://imagesvc.meredithcorp.io/v3/mm/image?url=https%3A%2F%2Fimages.media-allrecipes.com%2Fuserphotos%2F8207147.jpg',\n",
       "  'details': 'https://www.allrecipes.com/recipe/233618/best-ever-veggie-burgers/'},\n",
       " {'name': 'Close-up on burger with cheese and lettuce',\n",
       "  'img': 'https://imagesvc.meredithcorp.io/v3/mm/image?url=https%3A%2F%2Fstatic.onecms.io%2Fwp-content%2Fuploads%2Fsites%2F43%2F2020%2F09%2F24%2FAllRecipes_Veggie_Burger_0001-2000.jpg'},\n",
       " {'name': 'Best of Everything Veggie Burgers',\n",
       "  'img': 'https://imagesvc.meredithcorp.io/v3/mm/image?url=https%3A%2F%2Fimages.media-allrecipes.com%2Fuserphotos%2F689291.jpg',\n",
       "  'details': 'https://www.allrecipes.com/recipe/174272/best-of-everything-veggie-burgers/'},\n",
       " {'name': 'No Bean Veggie Burgers',\n",
       "  'img': 'https://imagesvc.meredithcorp.io/v3/mm/image?url=https%3A%2F%2Fimages.media-allrecipes.com%2Fuserphotos%2F2251257.jpg',\n",
       "  'details': 'https://www.allrecipes.com/recipe/222251/no-bean-veggie-burgers/'},\n",
       " {'name': 'Homemade Black Bean Veggie Burgers',\n",
       "  'img': 'https://imagesvc.meredithcorp.io/v3/mm/image?url=https%3A%2F%2Fimages.media-allrecipes.com%2Fuserphotos%2F4548470.jpg',\n",
       "  'details': 'https://www.allrecipes.com/recipe/85452/homemade-black-bean-veggie-burgers/'},\n",
       " {'name': 'Black Bean and Soy Veggie Burgers',\n",
       "  'img': 'https://imagesvc.meredithcorp.io/v3/mm/image?url=https%3A%2F%2Fimages.media-allrecipes.com%2Fuserphotos%2F1387563.jpg',\n",
       "  'details': 'https://www.allrecipes.com/recipe/235087/black-bean-and-soy-veggie-burgers/'},\n",
       " {'name': 'Eggplant Burgers',\n",
       "  'img': 'https://imagesvc.meredithcorp.io/v3/mm/image?url=https%3A%2F%2Fimages.media-allrecipes.com%2Fuserphotos%2F678638.jpg',\n",
       "  'details': 'https://www.allrecipes.com/recipe/53577/eggplant-burgers/'},\n",
       " {'name': 'Veggie Burgers',\n",
       "  'img': 'https://imagesvc.meredithcorp.io/v3/mm/image?url=https%3A%2F%2Fimages.media-allrecipes.com%2Fuserphotos%2F3677016.jpg',\n",
       "  'details': 'https://www.allrecipes.com/recipe/13995/veggie-burgers/'},\n",
       " {'name': 'Kidney Bean and Black Thai Rice Burgers',\n",
       "  'img': 'https://imagesvc.meredithcorp.io/v3/mm/image?url=https%3A%2F%2Fimages.media-allrecipes.com%2Fuserphotos%2F3329748.jpg',\n",
       "  'details': 'https://www.allrecipes.com/recipe/245798/kidney-bean-and-black-thai-rice-burgers/'},\n",
       " {'name': 'Quinoa Veggie Burgers',\n",
       "  'img': 'https://imagesvc.meredithcorp.io/v3/mm/image?url=https%3A%2F%2Fimages.media-allrecipes.com%2Fuserphotos%2F1503291.jpg',\n",
       "  'details': 'https://www.allrecipes.com/recipe/236728/quinoa-veggie-burgers/'},\n",
       " {'name': 'Plantain Veggie Burgers',\n",
       "  'img': 'https://imagesvc.meredithcorp.io/v3/mm/image?url=https%3A%2F%2Fimages.media-allrecipes.com%2Fuserphotos%2F849529.jpg',\n",
       "  'details': 'https://www.allrecipes.com/recipe/222250/plantain-veggie-burgers/'},\n",
       " {'name': 'Deep-Fried Cauliflower and Lemon Sauce',\n",
       "  'img': 'https://imagesvc.meredithcorp.io/v3/mm/image?url=https%3A%2F%2Fimages.media-allrecipes.com%2Fuserphotos%2F4026869.jpg',\n",
       "  'details': 'https://www.allrecipes.com/recipe/254974/deep-fried-cauliflower-and-lemon-sauce/'},\n",
       " {'name': 'Mexicana Veggie Burgers',\n",
       "  'img': 'https://imagesvc.meredithcorp.io/v3/mm/image?url=https%3A%2F%2Fimages.media-allrecipes.com%2Fuserphotos%2F1097835.jpg',\n",
       "  'details': 'https://www.allrecipes.com/recipe/222254/mexicana-veggie-burgers/'},\n",
       " {'name': 'Black Bean and Potato Veggie Burgers',\n",
       "  'img': 'https://imagesvc.meredithcorp.io/v3/mm/image?url=https%3A%2F%2Fimages.media-allrecipes.com%2Fuserphotos%2F1933606.jpg',\n",
       "  'details': 'https://www.allrecipes.com/recipe/239807/black-bean-and-potato-veggie-burgers/'},\n",
       " {'name': 'White Beans and Peppers',\n",
       "  'img': 'https://imagesvc.meredithcorp.io/v3/mm/image?url=https%3A%2F%2Fimages.media-allrecipes.com%2Fuserphotos%2F1012054.jpg',\n",
       "  'details': 'https://www.allrecipes.com/recipe/91679/white-beans-and-peppers/'},\n",
       " {'name': 'Lentil Burgers',\n",
       "  'img': 'https://imagesvc.meredithcorp.io/v3/mm/image?url=https%3A%2F%2Fimages.media-allrecipes.com%2Fuserphotos%2F2021843.jpg',\n",
       "  'details': 'https://www.allrecipes.com/recipe/236793/lentil-burgers/'},\n",
       " {'name': 'Vegetarian Cranberry Meatballs',\n",
       "  'img': 'https://imagesvc.meredithcorp.io/v3/mm/image?url=https%3A%2F%2Fimages.media-allrecipes.com%2Fuserphotos%2F745598.jpg',\n",
       "  'details': 'https://www.allrecipes.com/recipe/16713/vegetarian-cranberry-meatballs/'},\n",
       " {'name': \"Cheryl's Veggie-Nut Patties\",\n",
       "  'img': 'https://imagesvc.meredithcorp.io/v3/mm/image?url=https%3A%2F%2Fimages.media-allrecipes.com%2Fuserphotos%2F1323244.jpg',\n",
       "  'details': 'https://www.allrecipes.com/recipe/238459/cheryls-veggie-nut-patties/'}]"
      ]
     },
     "execution_count": 125,
     "metadata": {},
     "output_type": "execute_result"
    }
   ],
   "source": [
    "alternatives"
   ]
  },
  {
   "cell_type": "code",
   "execution_count": 128,
   "metadata": {},
   "outputs": [
    {
     "data": {
      "text/plain": [
       "['½ cup uncooked brown rice',\n",
       " '1 cup water',\n",
       " '2 (16 ounce) cans black beans, rinsed and drained',\n",
       " '1  green bell pepper, halved and seeded',\n",
       " '1  onion, quartered',\n",
       " '½ cup sliced mushrooms',\n",
       " '6 cloves garlic, peeled',\n",
       " '¾ cup shredded mozzarella cheese',\n",
       " '2  eggs',\n",
       " '1 tablespoon chili powder',\n",
       " '1 tablespoon ground cumin',\n",
       " '1 tablespoon garlic salt',\n",
       " '1 teaspoon hot sauce',\n",
       " '½ cup dry bread crumbs, or as needed']"
      ]
     },
     "execution_count": 128,
     "metadata": {},
     "output_type": "execute_result"
    }
   ],
   "source": [
    "ingredients"
   ]
  },
  {
   "cell_type": "code",
   "execution_count": 129,
   "metadata": {},
   "outputs": [],
   "source": [
    "def shop(query):\n",
    "    addr = \"http://www.bing.com/shop?q=%s\" % (urllib.parse.quote_plus(query))\n",
    "\n",
    "    soup = getsoup(addr).find('div',id='b_content')\n",
    "\n",
    "    \n",
    "    \n",
    "\n",
    "    return results\n",
    "\n"
   ]
  },
  {
   "cell_type": "code",
   "execution_count": 146,
   "metadata": {},
   "outputs": [
    {
     "name": "stdout",
     "output_type": "stream",
     "text": [
      "0.99\n"
     ]
    }
   ],
   "source": [
    "addr = \"http://www.bing.com/shop?q=%s\" % (urllib.parse.quote_plus(ingredients[1]))\n",
    "\n",
    "shop = getsoup(addr)\n",
    "prices = shop.findAll('div', class_=\"pd-price br-standardPrice promoted\")\n",
    "if prices ==[]:\n",
    "    prices = shop.findAll('span', class_='br-focusPrice')\n",
    "\n",
    "low = 10000\n",
    "for p in prices:\n",
    "    cur = float(p.text[1:])\n",
    "    if cur < low :\n",
    "        low = cur\n",
    "print(low) \n",
    "    "
   ]
  },
  {
   "cell_type": "code",
   "execution_count": 147,
   "metadata": {},
   "outputs": [
    {
     "data": {
      "text/plain": [
       "['½ cup uncooked brown rice',\n",
       " '1 cup water',\n",
       " '2 (16 ounce) cans black beans, rinsed and drained',\n",
       " '1  green bell pepper, halved and seeded',\n",
       " '1  onion, quartered',\n",
       " '½ cup sliced mushrooms',\n",
       " '6 cloves garlic, peeled',\n",
       " '¾ cup shredded mozzarella cheese',\n",
       " '2  eggs',\n",
       " '1 tablespoon chili powder',\n",
       " '1 tablespoon ground cumin',\n",
       " '1 tablespoon garlic salt',\n",
       " '1 teaspoon hot sauce',\n",
       " '½ cup dry bread crumbs, or as needed']"
      ]
     },
     "execution_count": 147,
     "metadata": {},
     "output_type": "execute_result"
    }
   ],
   "source": [
    "ingredients"
   ]
  },
  {
   "cell_type": "code",
   "execution_count": 182,
   "metadata": {},
   "outputs": [],
   "source": [
    "def parseingredient(ing):\n",
    "    ing.isalnum()\n",
    "    ing = ''.join([i for i in ing if not i.isdigit()])\n",
    "    arr = ing.split()\n",
    "    nogo = ['and', 'unce', 'ablespoon', 'easpoon', 'cup', 'or', 'as' ]\n",
    "    fin = \"\"\n",
    "    for a in arr:\n",
    "        ok = True\n",
    "        for n in nogo:\n",
    "            if n in a:\n",
    "                ok = False\n",
    "        if ok and \"ed\" not in a[len(a)-2:]:\n",
    "            fin = fin+a+\" \"\n",
    "    return re.sub('[^A-Za-z0-9 ]+', '', fin).replace(\" \", \"+\")\n",
    "\n",
    "parsed = []\n",
    "for p in ingredients:\n",
    "    parsed.append(parseingredient(p))"
   ]
  },
  {
   "cell_type": "code",
   "execution_count": 190,
   "metadata": {},
   "outputs": [],
   "source": [
    "addr = \"https://www.nutritionvalue.org/search.php?food_query=\"+parsed[4]\n",
    "soup = getsoup(addr)\n",
    "\n",
    "options = soup.find_all(\"a\", class_=\"table_item_name\")\n",
    "soup = getsoup(\"https://www.nutritionvalue.org\"+options[0]['href'])\n",
    "calories = soup.find('td', rowspan='2', class_='right').text"
   ]
  },
  {
   "cell_type": "code",
   "execution_count": 191,
   "metadata": {},
   "outputs": [
    {
     "data": {
      "text/plain": [
       "'40'"
      ]
     },
     "execution_count": 191,
     "metadata": {},
     "output_type": "execute_result"
    }
   ],
   "source": [
    "calories"
   ]
  }
 ],
 "metadata": {
  "kernelspec": {
   "display_name": "Python 3",
   "language": "python",
   "name": "python3"
  },
  "language_info": {
   "codemirror_mode": {
    "name": "ipython",
    "version": 3
   },
   "file_extension": ".py",
   "mimetype": "text/x-python",
   "name": "python",
   "nbconvert_exporter": "python",
   "pygments_lexer": "ipython3",
   "version": "3.7.4"
  },
  "toc": {
   "base_numbering": 1,
   "nav_menu": {},
   "number_sections": true,
   "sideBar": true,
   "skip_h1_title": false,
   "title_cell": "Table of Contents",
   "title_sidebar": "Contents",
   "toc_cell": false,
   "toc_position": {},
   "toc_section_display": true,
   "toc_window_display": false
  },
  "varInspector": {
   "cols": {
    "lenName": 16,
    "lenType": 16,
    "lenVar": 40
   },
   "kernels_config": {
    "python": {
     "delete_cmd_postfix": "",
     "delete_cmd_prefix": "del ",
     "library": "var_list.py",
     "varRefreshCmd": "print(var_dic_list())"
    },
    "r": {
     "delete_cmd_postfix": ") ",
     "delete_cmd_prefix": "rm(",
     "library": "var_list.r",
     "varRefreshCmd": "cat(var_dic_list()) "
    }
   },
   "types_to_exclude": [
    "module",
    "function",
    "builtin_function_or_method",
    "instance",
    "_Feature"
   ],
   "window_display": false
  }
 },
 "nbformat": 4,
 "nbformat_minor": 2
}
