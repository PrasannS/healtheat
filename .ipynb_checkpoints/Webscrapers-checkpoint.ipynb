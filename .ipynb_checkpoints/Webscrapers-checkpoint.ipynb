{
 "cells": [
  {
   "cell_type": "code",
   "execution_count": 1,
   "metadata": {},
   "outputs": [],
   "source": [
    "from bs4 import BeautifulSoup\n",
    "import urllib\n",
    "import re"
   ]
  },
  {
   "cell_type": "code",
   "execution_count": 42,
   "metadata": {},
   "outputs": [],
   "source": [
    "def getsoup (address):\n",
    "    getRequest = urllib.request.Request(address, None, {'User-Agent':'Mozilla/5.0 (Windows NT 10.0; Win64; x64; rv:54.0) Gecko/20100101 Firefox/54.0'})\n",
    "\n",
    "    urlfile = urllib.request.urlopen(getRequest)\n",
    "    htmlResult = urlfile.read(20000000)\n",
    "    urlfile.close()\n",
    "    \n",
    "    return BeautifulSoup(htmlResult)\n",
    "    \n",
    "    \n",
    "def search(query):\n",
    "    addr = \"http://www.bing.com/search?q=%s\" % (urllib.parse.quote_plus(query)+ \"&count=20\")\n",
    "\n",
    "    \n",
    "\n",
    "    soup = getsoup(addr).find('div',id='b_content')\n",
    "\n",
    "    [s.extract() for s in soup('span')]\n",
    "    unwantedTags = ['cite']\n",
    "    \n",
    "    for tag in unwantedTags:\n",
    "        for match in soup.findAll(tag):\n",
    "            match.replaceWithChildren()\n",
    "\n",
    "    results = soup.findAll('li')\n",
    "    \n",
    "\n",
    "    return results\n",
    "\n",
    "def get_item_info(query):\n",
    "    links = search(query)\n",
    "    titles = []\n",
    "    urls = []\n",
    "    paragraphs = []\n",
    "    for link in links :\n",
    "        try:\n",
    "            urls.append(str(link.find('h2').find('a')['href']).replace(\" \", \" \"))\n",
    "            titles.append(str(link.find('h2').text).replace(\" \", \" \"))\n",
    "        except:\n",
    "            \"\"\n",
    "        try:\n",
    "            paragraphs.append(str(link.findAll('p')[0].text))\n",
    "        except:\n",
    "            paragraphs.append(\"\")\n",
    "\n",
    "    return titles, urls, paragraphs, links[0]"
   ]
  },
  {
   "cell_type": "code",
   "execution_count": 51,
   "metadata": {},
   "outputs": [],
   "source": [
    "def getmenus():\n",
    "    addr = \"https://www.fastfoodmenuprices.com/all-restaurants/\"\n",
    "\n",
    "    soup = getsoup(addr)\n",
    "\n",
    "    results = soup.findAll('ul', class_ = \"menu\")\n",
    "\n",
    "    items = results[0].findAll('li')\n",
    "    menus = []\n",
    "    temp = {}\n",
    "    for r in results:\n",
    "        items = r.findAll('li')\n",
    "\n",
    "        for i in items:\n",
    "            menus.append({'name':i.find('a').text, 'url':i.find('a')['href']})\n",
    "    \n",
    "    return menus\n",
    "            \n",
    "def getmenu(addr):\n",
    "    soup = getsoup(addr)\n",
    "\n",
    "    names = soup.findAll('td', class_=\"column-1\")\n",
    "    prices = soup.findAll('td', class_=\"column-3\")\n",
    "\n",
    "    menu = []\n",
    "    for i in range(0,len(prices)):\n",
    "        if names[i].findAll('h2') == []:\n",
    "            menu.append({'item':names[i].text, 'price':prices[i] .text \n",
    "        elif names[i].findAll('b') != []:\n",
    "            menu.append({'item':names[i].find('b').text, 'price':prices[i].find('b') .text \n",
    "    \n",
    "    return menu"
   ]
  },
  {
   "cell_type": "code",
   "execution_count": 52,
   "metadata": {},
   "outputs": [
    {
     "name": "stdout",
     "output_type": "stream",
     "text": [
      "[{'name': '&pizza', 'url': 'https://www.fastfoodmenuprices.com/and-pizza-prices/'}, {'name': '99 Restaurant & Pub', 'url': 'https://www.fastfoodmenuprices.com/99-restaurant-pub-menu-prices/'}, {'name': 'Abuelo’s', 'url': 'https://www.fastfoodmenuprices.com/abuelos-menu-prices/'}, {'name': 'America’s Best Wings', 'url': 'https://www.fastfoodmenuprices.com/americas-best-wings-menu-prices/'}, {'name': 'American Deli’s', 'url': 'https://www.fastfoodmenuprices.com/american-delis-menu-prices/'}, {'name': 'Amy’s Drive Thru', 'url': 'https://www.fastfoodmenuprices.com/amys-drive-through-prices/'}, {'name': 'Andy’s Frozen Custard', 'url': 'https://www.fastfoodmenuprices.com/andys-frozen-custard-menu-prices/'}, {'name': 'Applebee’s', 'url': 'https://www.fastfoodmenuprices.com/applebees-prices/'}, {'name': 'Alinea', 'url': 'https://www.fastfoodmenuprices.com/alinea-menu-prices/'}, {'name': 'A&W', 'url': 'https://www.fastfoodmenuprices.com/aw-prices/'}, {'name': 'Arby’s', 'url': 'https://www.fastfoodmenuprices.com/arbys-prices/'}, {'name': 'Aria Buffet', 'url': 'https://www.fastfoodmenuprices.com/aria-buffet-menu-prices/'}, {'name': 'Asian Buffet', 'url': 'https://www.fastfoodmenuprices.com/asian-buffet-menu-prices/'}, {'name': 'Au Bon Pain', 'url': 'https://www.fastfoodmenuprices.com/au-bon-pain-prices/'}, {'name': 'Auntie Anne’s', 'url': 'https://www.fastfoodmenuprices.com/auntie-annes-prices/'}, {'name': 'Azteca', 'url': 'https://www.fastfoodmenuprices.com/azteca-menu-prices/'}, {'name': 'Bahama Breeze', 'url': 'https://www.fastfoodmenuprices.com/bahama-breeze-menu-prices/'}, {'name': 'Bahama Bucks', 'url': 'https://www.fastfoodmenuprices.com/bahama-bucks-prices/'}, {'name': 'Baja Fresh', 'url': 'https://www.fastfoodmenuprices.com/baja-fresh-prices/'}, {'name': 'Bakers Square', 'url': 'https://www.fastfoodmenuprices.com/bakers-square-menu-prices/'}, {'name': 'Bamboo Bistro', 'url': 'https://www.fastfoodmenuprices.com/bamboo-bistro-menu-prices/'}, {'name': 'Bangkok Cuisine', 'url': 'https://www.fastfoodmenuprices.com/bangkok-cuisine-menu-prices/'}, {'name': 'Barberitos', 'url': 'https://www.fastfoodmenuprices.com/barberitos-menu-prices/'}, {'name': 'Bar Louie', 'url': 'https://www.fastfoodmenuprices.com/bar-louie-menu-prices/'}, {'name': 'Barro’s Pizza', 'url': 'https://www.fastfoodmenuprices.com/barros-pizza-menu-prices/'}, {'name': 'Baskin-Robbins', 'url': 'https://www.fastfoodmenuprices.com/baskin-robbins-prices/'}, {'name': 'Ben & Jerry’s', 'url': 'https://www.fastfoodmenuprices.com/ben-jerrys-prices/'}, {'name': 'Benihana', 'url': 'https://www.fastfoodmenuprices.com/benihana-menu-prices/'}, {'name': 'Biggby Coffee', 'url': 'https://www.fastfoodmenuprices.com/biggby-coffee-prices/'}, {'name': 'Big Shot Bobs', 'url': 'https://www.fastfoodmenuprices.com/big-shot-bobs-menu-prices/'}, {'name': 'Bill Millers BBQ', 'url': 'https://www.fastfoodmenuprices.com/bill-millers-bbq-menu-prices/'}, {'name': 'BJ’s Restaurant & Brewhouse', 'url': 'https://www.fastfoodmenuprices.com/bjs-restaurant-brewhouse-menu-prices/'}, {'name': 'Black Angus', 'url': 'https://www.fastfoodmenuprices.com/black-angus-prices/'}, {'name': 'Black Bear Diner', 'url': 'https://www.fastfoodmenuprices.com/black-bear-diner-prices/'}, {'name': 'Blaze Pizza', 'url': 'https://www.fastfoodmenuprices.com/blaze-pizza-prices/'}, {'name': 'Blimpie', 'url': 'https://www.fastfoodmenuprices.com/blimpie-prices/'}, {'name': 'Blue Dolphin', 'url': 'https://www.fastfoodmenuprices.com/blue-dolphin-menu-prices/'}, {'name': 'Bob Evans Farmhouse', 'url': 'https://www.fastfoodmenuprices.com/bob-evans-farmhouse-prices/'}, {'name': 'Bobby’s Burger Palace', 'url': 'https://www.fastfoodmenuprices.com/bobbys-burger-palace-prices/'}, {'name': 'Bojangles’', 'url': 'https://www.fastfoodmenuprices.com/bojangles-prices/'}, {'name': 'Bonchon', 'url': 'https://www.fastfoodmenuprices.com/bonchon-menu-prices/'}, {'name': 'Bonefish Grill', 'url': 'https://www.fastfoodmenuprices.com/bonefish-grill-prices/'}, {'name': 'Boomerjack’s', 'url': 'https://www.fastfoodmenuprices.com/boomerjacks-menu-prices/'}, {'name': 'Boston Market', 'url': 'https://www.fastfoodmenuprices.com/boston-market-prices/'}, {'name': 'Braums', 'url': 'https://www.fastfoodmenuprices.com/braums-prices/'}, {'name': 'Bravo', 'url': 'https://www.fastfoodmenuprices.com/bravo-menu-prices/'}, {'name': 'Brio Tuscan Grille', 'url': 'https://www.fastfoodmenuprices.com/brio-menu-prices/'}, {'name': 'Bruegger’s Bagels', 'url': 'https://www.fastfoodmenuprices.com/brueggers-bagels-prices/'}, {'name': 'Bruster’s', 'url': 'https://www.fastfoodmenuprices.com/brusters-prices/'}, {'name': 'Buca Di Beppo', 'url': 'https://www.fastfoodmenuprices.com/buca-di-beppo-menu-prices/'}, {'name': 'Buffalo Wild Wings', 'url': 'https://www.fastfoodmenuprices.com/buffalo-wild-wings-prices/'}, {'name': 'Bugerim', 'url': 'https://www.fastfoodmenuprices.com/bugerim-menu-prices/'}, {'name': 'Buona Beef', 'url': 'https://www.fastfoodmenuprices.com/buona-beef-menu-prices/'}, {'name': 'Burger 21', 'url': 'https://www.fastfoodmenuprices.com/burger-21-prices/'}, {'name': 'Burger King', 'url': 'https://www.fastfoodmenuprices.com/burger-king-prices/'}, {'name': 'BurgerFi', 'url': 'https://www.fastfoodmenuprices.com/burgerfi-prices/'}, {'name': 'Burgerville', 'url': 'https://www.fastfoodmenuprices.com/burgerville-prices/'}, {'name': 'Bush’s Chicken', 'url': 'https://www.fastfoodmenuprices.com/bushs-chicken-menu-prices/'}, {'name': 'Cafe Rio', 'url': 'https://www.fastfoodmenuprices.com/cafe-rio-prices/'}, {'name': 'Cafe Zupas', 'url': 'https://www.fastfoodmenuprices.com/cafe-zupas-menu-prices/'}, {'name': 'California Pizza Kitchen', 'url': 'https://www.fastfoodmenuprices.com/california-pizza-kitchen-prices/'}, {'name': 'Capriotti’s', 'url': 'https://www.fastfoodmenuprices.com/capriottis-prices/'}, {'name': 'Captain D’s', 'url': 'https://www.fastfoodmenuprices.com/captain-ds-prices/'}, {'name': 'Caribou Coffee', 'url': 'https://www.fastfoodmenuprices.com/caribou-coffee-prices/'}, {'name': 'Carrabba’s Italian Grill', 'url': 'https://www.fastfoodmenuprices.com/carrabbas-italian-grill-menu-prices/'}, {'name': 'Carl’s Jr.', 'url': 'https://www.fastfoodmenuprices.com/hardees-carls-jr-prices/'}, {'name': 'Carvel', 'url': 'https://www.fastfoodmenuprices.com/carvel-prices/'}, {'name': 'Casa Ole', 'url': 'https://www.fastfoodmenuprices.com/casa-ole-menu-prices/'}, {'name': 'Casey’s Pizza', 'url': 'https://www.fastfoodmenuprices.com/caseys-pizza-menu-prices/'}, {'name': 'Chama Gaucha', 'url': 'https://www.fastfoodmenuprices.com/chama-gaucha-menu-prices/'}, {'name': 'Cheba Hut', 'url': 'https://www.fastfoodmenuprices.com/cheba-hut-menu-prices/'}, {'name': 'Checkers', 'url': 'https://www.fastfoodmenuprices.com/checkers-rallys-prices/'}, {'name': 'Cheddar’s', 'url': 'https://www.fastfoodmenuprices.com/cheddars-prices/'}, {'name': 'Cheesecake Factory', 'url': 'https://www.fastfoodmenuprices.com/cheesecake-factory-prices/'}, {'name': 'Cherry Berry', 'url': 'https://www.fastfoodmenuprices.com/cherry-berry-prices/'}, {'name': 'Chick-fil-A', 'url': 'https://www.fastfoodmenuprices.com/chick-fil-a-prices/'}, {'name': 'Chicken Express', 'url': 'https://www.fastfoodmenuprices.com/chicken-express-prices/'}, {'name': 'Chicken King', 'url': 'https://www.fastfoodmenuprices.com/chicken-king-menu-prices/'}, {'name': 'Chicken Salad Chick', 'url': 'https://www.fastfoodmenuprices.com/chicken-salad-chick-prices/'}, {'name': 'Chicken Shack', 'url': 'https://www.fastfoodmenuprices.com/chicken-shack-menu-prices/'}, {'name': 'Chili’s', 'url': 'https://www.fastfoodmenuprices.com/chilis-prices/'}, {'name': 'China Buffet', 'url': 'https://www.fastfoodmenuprices.com/china-buffet-menu-prices/'}, {'name': 'China Dragon', 'url': 'https://www.fastfoodmenuprices.com/china-dragon-menu-prices/'}, {'name': 'China King’s', 'url': 'https://www.fastfoodmenuprices.com/china-kings-menu-prices/'}, {'name': 'China One', 'url': 'https://www.fastfoodmenuprices.com/china-one-menu-prices/'}, {'name': 'China Wok', 'url': 'https://www.fastfoodmenuprices.com/china-wok-menu-prices/'}, {'name': 'Chipotle', 'url': 'https://www.fastfoodmenuprices.com/chipotle-prices/'}, {'name': 'Chopt', 'url': 'https://www.fastfoodmenuprices.com/chopt-menu-prices/'}, {'name': 'Chopsticks', 'url': 'https://www.fastfoodmenuprices.com/chopsticks-menu-prices/'}, {'name': 'Chuck A Rama', 'url': 'https://www.fastfoodmenuprices.com/chuck-a-rama-menu-prices/'}, {'name': 'Chuck E. Cheese', 'url': 'https://www.fastfoodmenuprices.com/chuck-e-cheese-prices/'}, {'name': 'Church’s Chicken', 'url': 'https://www.fastfoodmenuprices.com/churchs-chicken-prices/'}, {'name': 'Cicis Pizza Menu & Prices 2021', 'url': 'https://www.fastfoodmenuprices.com/cicis-pizza-menu-prices/'}, {'name': 'Circus Circus Buffet', 'url': 'https://www.fastfoodmenuprices.com/circus-circus-buffet-menu-prices/'}, {'name': 'Claim Jumper Restaurant & Saloon', 'url': 'https://www.fastfoodmenuprices.com/claim-jumper-restaurant-saloon-prices/'}, {'name': 'Cinnabon', 'url': 'https://www.fastfoodmenuprices.com/cinnabon-prices/'}, {'name': 'Cold Stone Creamery', 'url': 'https://www.fastfoodmenuprices.com/cold-stone-creamery-prices/'}, {'name': 'Colton’s', 'url': 'https://www.fastfoodmenuprices.com/coltons-menu-prices/'}, {'name': 'Cook Out', 'url': 'https://www.fastfoodmenuprices.com/cookout-prices/'}, {'name': 'Cooper’s Hawk', 'url': 'https://www.fastfoodmenuprices.com/coopers-hawk-menu-prices/'}, {'name': 'Corner Bakery', 'url': 'https://www.fastfoodmenuprices.com/corner-bakery-prices/'}, {'name': 'Cosi', 'url': 'https://www.fastfoodmenuprices.com/cosi-prices/'}, {'name': 'Costa Vida', 'url': 'https://www.fastfoodmenuprices.com/costa-vida-prices/'}, {'name': 'Costco Food Court', 'url': 'https://www.fastfoodmenuprices.com/costco-food-court-menu-prices/'}, {'name': 'Cotton Patch', 'url': 'https://www.fastfoodmenuprices.com/cotton-patch-menu-prices/'}, {'name': 'Cracker Barrel', 'url': 'https://www.fastfoodmenuprices.com/cracker-barrel-prices/'}, {'name': 'Crave', 'url': 'https://www.fastfoodmenuprices.com/crave-menu-prices/'}, {'name': 'Culver’s', 'url': 'https://www.fastfoodmenuprices.com/culvers-prices/'}, {'name': 'CYOC', 'url': 'https://www.fastfoodmenuprices.com/cyoc-menu-prices/'}, {'name': 'Dairy Queen', 'url': 'https://www.fastfoodmenuprices.com/dairy-queen-prices/'}, {'name': 'Dave & Buster’s', 'url': 'https://www.fastfoodmenuprices.com/dave-busters-menu-prices/'}, {'name': 'Del Taco', 'url': 'https://www.fastfoodmenuprices.com/del-taco-prices/'}, {'name': 'Denny’s', 'url': 'https://www.fastfoodmenuprices.com/dennys-menu-prices/'}, {'name': 'Dickey’s Barbecue', 'url': 'https://www.fastfoodmenuprices.com/dickeys-barbecue-menu-prices/'}, {'name': 'Domino’s', 'url': 'https://www.fastfoodmenuprices.com/dominos-prices/'}, {'name': 'Donatos Pizza', 'url': 'https://www.fastfoodmenuprices.com/donatos-pizza-prices/'}, {'name': 'Dreamland Bar-B-Que', 'url': 'https://www.fastfoodmenuprices.com/dreamland-bar-b-que-menu-prices/'}, {'name': 'Duffy’s', 'url': 'https://www.fastfoodmenuprices.com/duffys-menu-prices/'}, {'name': 'Duck Donuts', 'url': 'https://www.fastfoodmenuprices.com/duck-donuts-menu-prices/'}, {'name': 'Dunkin’ Donuts', 'url': 'https://www.fastfoodmenuprices.com/dunkin-donuts-prices/'}, {'name': 'Dutch Bros', 'url': 'https://www.fastfoodmenuprices.com/dutch-bros-prices/'}, {'name': 'East Bay Deli', 'url': 'https://www.fastfoodmenuprices.com/east-bay-deli-menu-prices/'}, {'name': 'East Of Chicago Pizza', 'url': 'https://www.fastfoodmenuprices.com/east-of-chicago-pizza-prices/'}, {'name': 'Eat’n Park', 'url': 'https://www.fastfoodmenuprices.com/eatnpark-menu-prices/'}, {'name': 'Einstein Bros', 'url': 'https://www.fastfoodmenuprices.com/einstein-bros-menu-prices/'}, {'name': 'Elmer Diner', 'url': 'https://www.fastfoodmenuprices.com/elmer-diner-menu-prices/'}, {'name': 'El Nopal', 'url': 'https://www.fastfoodmenuprices.com/el-nopal-menu-prices/'}, {'name': 'El Pollo Loco', 'url': 'https://www.fastfoodmenuprices.com/el-pollo-loco-prices/'}, {'name': 'El Rancho', 'url': 'https://www.fastfoodmenuprices.com/el-rancho-menu-prices/'}, {'name': 'El Torito', 'url': 'https://www.fastfoodmenuprices.com/el-torito-menu-prices/'}, {'name': 'El Toro', 'url': 'https://www.fastfoodmenuprices.com/el-toro-menu-prices/'}, {'name': 'Elevation Burger', 'url': 'https://www.fastfoodmenuprices.com/elevation-burger-prices/'}, {'name': 'Erbert & Gerbert’s', 'url': 'https://www.fastfoodmenuprices.com/erbert-gerberts-menu-prices/'}, {'name': 'Famous Dave’s', 'url': 'https://www.fastfoodmenuprices.com/famous-daves-menu-prices/'}, {'name': 'Farmer Boys', 'url': 'https://www.fastfoodmenuprices.com/farmer-boys-prices/'}, {'name': 'Fatburger', 'url': 'https://www.fastfoodmenuprices.com/fatburger-prices/'}, {'name': 'Fatz Cafe', 'url': 'https://www.fastfoodmenuprices.com/fatz-cafe-menu-prices/'}, {'name': 'Fazoli’s', 'url': 'https://www.fastfoodmenuprices.com/fazolis-prices/'}, {'name': 'Filibertos', 'url': 'https://www.fastfoodmenuprices.com/filibertos-menu-prices/'}, {'name': 'Firebirds Wood Fired Grill', 'url': 'https://www.fastfoodmenuprices.com/firebirds-wood-fired-grill-menu-prices/'}, {'name': 'Firehouse Subs', 'url': 'https://www.fastfoodmenuprices.com/firehouse-subs-prices/'}, {'name': 'First Watch', 'url': 'https://www.fastfoodmenuprices.com/first-watch-menu-prices/'}, {'name': 'Five Guys', 'url': 'https://www.fastfoodmenuprices.com/five-guys-prices/'}, {'name': 'Five Star Pizza', 'url': 'https://www.fastfoodmenuprices.com/five-star-pizza-menu-prices/'}, {'name': 'Flame Broiler', 'url': 'https://www.fastfoodmenuprices.com/flame-broiler-prices/'}, {'name': 'Fleming’s Steakhouse', 'url': 'https://www.fastfoodmenuprices.com/flemings-steakhouse-menu-prices/'}, {'name': 'Fogo de Chao', 'url': 'https://www.fastfoodmenuprices.com/fogo-de-chao-menu-prices/'}, {'name': 'Fox’s Pizza', 'url': 'https://www.fastfoodmenuprices.com/foxs-pizza-prices/'}, {'name': 'Freddy’s', 'url': 'https://www.fastfoodmenuprices.com/freddys-prices/'}, {'name': 'Freebirds', 'url': 'https://www.fastfoodmenuprices.com/freebirds-prices/'}, {'name': 'French Laundry', 'url': 'https://www.fastfoodmenuprices.com/french-laundry-menu-prices/'}, {'name': 'Friendly’s', 'url': 'https://www.fastfoodmenuprices.com/friendlys-menu-prices/'}, {'name': 'Freshii', 'url': 'https://www.fastfoodmenuprices.com/freshii-prices/'}, {'name': 'Frisch’s', 'url': 'https://www.fastfoodmenuprices.com/frischs-menu-prices/'}, {'name': 'Fuddruckers', 'url': 'https://www.fastfoodmenuprices.com/fuddruckers-prices/'}, {'name': 'Fuzzy’s Taco Shop', 'url': 'https://www.fastfoodmenuprices.com/fuzzys-taco-shop-menu-prices/'}, {'name': 'Genghis Grill', 'url': 'https://www.fastfoodmenuprices.com/genghis-grill-menu-prices/'}, {'name': 'Gigi’s Cupcakes', 'url': 'https://www.fastfoodmenuprices.com/gigis-cupcakes-prices/'}, {'name': 'Girl & The Goat', 'url': 'https://www.fastfoodmenuprices.com/girl-the-goat-menu-prices/'}, {'name': 'Gionino’s Pizzeria', 'url': 'https://www.fastfoodmenuprices.com/gioninos-pizzeria-menu-prices/'}, {'name': 'Glory Days Grill', 'url': 'https://www.fastfoodmenuprices.com/glory-days-grill-menu-prices/'}, {'name': 'Godfather’s Pizza', 'url': 'https://www.fastfoodmenuprices.com/godfathers-pizza-prices/'}, {'name': 'Golden Chick', 'url': 'https://www.fastfoodmenuprices.com/golden-chick-prices/'}, {'name': 'Golden Corral Menu Prices', 'url': 'https://www.fastfoodmenuprices.com/golden-corral-menu-prices/'}, {'name': 'Good Times Burgers & Frozen Custard', 'url': 'https://www.fastfoodmenuprices.com/good-times-burgers-frozen-custard-menu-prices/'}, {'name': 'Granite City', 'url': 'https://www.fastfoodmenuprices.com/granite-city-menu-prices/'}, {'name': 'Greystone Steakhouse', 'url': 'https://www.fastfoodmenuprices.com/greystone-steakhouse-menu-prices/'}, {'name': 'Habit Burger', 'url': 'https://www.fastfoodmenuprices.com/the-habit-burger-prices/'}, {'name': 'Halal Bros', 'url': 'https://www.fastfoodmenuprices.com/halal-bros-menu-prices/'}, {'name': 'Happy’s Pizza', 'url': 'https://www.fastfoodmenuprices.com/happys-pizza-menu-prices/'}, {'name': 'Hardee’s', 'url': 'https://www.fastfoodmenuprices.com/hardees-carls-jr-prices/'}, {'name': 'Hard Rock Cafe', 'url': 'https://www.fastfoodmenuprices.com/hard-rock-cafe-menu-prices/'}, {'name': 'Hibachi Grill', 'url': 'https://www.fastfoodmenuprices.com/hibachi-grill-menu-prices/'}, {'name': 'Highland House', 'url': 'https://www.fastfoodmenuprices.com/highland-house-menu-prices/'}, {'name': 'Heavenly Ham Menu Prices', 'url': 'https://www.fastfoodmenuprices.com/heavenly-ham-menu-prices/'}, {'name': 'Home Town Buffet', 'url': 'https://www.fastfoodmenuprices.com/home-town-buffet-menu-prices/'}, {'name': 'Honeybaked Ham', 'url': 'https://www.fastfoodmenuprices.com/honeybaked-ham-menu-prices/'}, {'name': 'Houlihans', 'url': 'https://www.fastfoodmenuprices.com/houlihans-menu-prices/'}, {'name': 'Hopdoddy', 'url': 'https://www.fastfoodmenuprices.com/hopdoddy-prices/'}, {'name': 'Hooters', 'url': 'https://www.fastfoodmenuprices.com/hooters-prices/'}, {'name': 'Hopcat', 'url': 'https://www.fastfoodmenuprices.com/hopcat-menu-prices/'}, {'name': 'Hot Head Burritos', 'url': 'https://www.fastfoodmenuprices.com/hot-head-burritos-menu-prices/'}, {'name': 'Hot Potato', 'url': 'https://www.fastfoodmenuprices.com/hot-potato-cafe-menu-prices/'}, {'name': 'HuHot Mongolian Grill', 'url': 'https://www.fastfoodmenuprices.com/huhot-mongolian-grill-menu-prices/'}, {'name': 'Hungry Howie’s', 'url': 'https://www.fastfoodmenuprices.com/hungry-howies-prices/'}, {'name': 'Hwy 55', 'url': 'https://www.fastfoodmenuprices.com/hwy-55-menu-prices/'}, {'name': 'Ichiban Hibachi & Sushi Bar', 'url': 'https://www.fastfoodmenuprices.com/ichiban-hibachi-sushi-bar-menu-prices/'}, {'name': 'Idaho Pizza', 'url': 'https://www.fastfoodmenuprices.com/idaho-pizza-menu-prices/'}, {'name': 'IHOP', 'url': 'https://www.fastfoodmenuprices.com/ihop-prices/'}, {'name': 'Imo’s', 'url': 'https://www.fastfoodmenuprices.com/imos-prices/'}, {'name': 'In-N-Out', 'url': 'https://www.fastfoodmenuprices.com/in-n-out-prices/'}, {'name': 'Insomnia Cookies Menu Prices', 'url': 'https://www.fastfoodmenuprices.com/insomnia-cookies-menu-prices/'}, {'name': 'Islands', 'url': 'https://www.fastfoodmenuprices.com/islands-menu-prices/'}, {'name': 'J Alexander’s', 'url': 'https://www.fastfoodmenuprices.com/j-alexanders-menu-prices/'}, {'name': 'Jack in the Box', 'url': 'https://www.fastfoodmenuprices.com/jack-in-the-box-prices/'}, {'name': 'Jamba Juice', 'url': 'https://www.fastfoodmenuprices.com/jamba-juice-prices/'}, {'name': 'Jason’s Deli', 'url': 'https://www.fastfoodmenuprices.com/jasons-deli-prices/'}, {'name': 'Jet’s Pizza', 'url': 'https://www.fastfoodmenuprices.com/jets-pizza-prices/'}, {'name': 'Jersey Mike’s Subs', 'url': 'https://www.fastfoodmenuprices.com/jersey-mikes-subs-prices/'}, {'name': 'Jimmy John’s', 'url': 'https://www.fastfoodmenuprices.com/jimmy-johns-prices/'}, {'name': 'JJ’s Grill', 'url': 'https://www.fastfoodmenuprices.com/jjs-grill-menu-prices/'}, {'name': 'Joe’s Crab Shack Menu Prices', 'url': 'https://www.fastfoodmenuprices.com/joes-crab-shack-menu-prices/'}, {'name': 'Johnny Carino’s', 'url': 'https://www.fastfoodmenuprices.com/johnny-carinos-menu-prices/'}, {'name': 'Johnny Rockets', 'url': 'https://www.fastfoodmenuprices.com/johnny-rockets-prices/'}, {'name': 'John’s Incredible Pizza', 'url': 'https://www.fastfoodmenuprices.com/johns-incredible-pizza-prices/'}, {'name': 'Jose Peppers', 'url': 'https://www.fastfoodmenuprices.com/jose-peppers-menu-prices/'}, {'name': 'Jose Tejas', 'url': 'https://www.fastfoodmenuprices.com/jose-tejas-menu-prices/'}, {'name': 'Just Pizza', 'url': 'https://www.fastfoodmenuprices.com/just-pizza-menu-prices/'}, {'name': 'Juan Pollo', 'url': 'https://www.fastfoodmenuprices.com/juan-pollo-menu-prices/'}, {'name': 'Kabosu', 'url': 'https://www.fastfoodmenuprices.com/kabosu-menu-prices/'}, {'name': 'KFC', 'url': 'https://www.fastfoodmenuprices.com/kfc-prices/'}, {'name': 'Kona Grill', 'url': 'https://www.fastfoodmenuprices.com/kona-grill-menu-prices/'}, {'name': 'Kona Ice', 'url': 'https://www.fastfoodmenuprices.com/kona-ice-prices/'}, {'name': 'Kneaders Bakery & Cafe', 'url': 'https://www.fastfoodmenuprices.com/kneaders-bakery-cafe-menu-prices/'}, {'name': 'Kotobuki', 'url': 'https://www.fastfoodmenuprices.com/kotobuki-menu-prices/'}, {'name': 'Krispy Kreme', 'url': 'https://www.fastfoodmenuprices.com/krispy-kreme-prices/'}, {'name': 'Krystal', 'url': 'https://www.fastfoodmenuprices.com/krystal-prices/'}, {'name': 'LaRosa’s', 'url': 'https://www.fastfoodmenuprices.com/larosas-menu-prices/'}, {'name': 'Lazy Dog', 'url': 'https://www.fastfoodmenuprices.com/lazy-dog-menu-prices/'}, {'name': 'La Carreta', 'url': 'https://www.fastfoodmenuprices.com/la-carreta-menu-prices/'}, {'name': 'Lee’s Famous Recipe Chicken', 'url': 'https://www.fastfoodmenuprices.com/lees-famous-recipe-chicken-prices/'}, {'name': 'Lion’s Choice', 'url': 'https://www.fastfoodmenuprices.com/lions-choice-prices/'}, {'name': 'Little Caesars', 'url': 'https://www.fastfoodmenuprices.com/little-caesars-prices/'}, {'name': 'Logan’s Roadhouse', 'url': 'https://www.fastfoodmenuprices.com/logans-roadhouse-menu-prices/'}, {'name': 'LongHorn Steakhouse', 'url': 'https://www.fastfoodmenuprices.com/longhorn-steakhouse-prices/'}, {'name': 'Long John Silver’s', 'url': 'https://www.fastfoodmenuprices.com/long-john-silvers-prices/'}, {'name': 'Lou Malnati’s', 'url': 'https://www.fastfoodmenuprices.com/lou-malnatis-menu-prices/'}, {'name': 'Luby’s', 'url': 'https://www.fastfoodmenuprices.com/lubys-menu-prices/'}, {'name': 'Luxor Buffet', 'url': 'https://www.fastfoodmenuprices.com/luxor-buffet-menu-prices/'}, {'name': 'LYFE Kitchen', 'url': 'https://www.fastfoodmenuprices.com/lyfe-kitchen-prices/'}, {'name': 'M Grill', 'url': 'https://www.fastfoodmenuprices.com/m-grill-menu-prices/'}, {'name': 'Maggiano’s', 'url': 'https://www.fastfoodmenuprices.com/maggianos-menu-prices/'}, {'name': 'Main Moon', 'url': 'https://www.fastfoodmenuprices.com/main-moon-menu-prices/'}, {'name': 'Marble Slab Creamery', 'url': 'https://www.fastfoodmenuprices.com/marble-slab-creamery-prices/'}, {'name': 'Marco’s Pizza', 'url': 'https://www.fastfoodmenuprices.com/marcos-pizza-prices/'}, {'name': 'Mazzios', 'url': 'https://www.fastfoodmenuprices.com/mazzios-menu-prices/'}, {'name': 'McAlister’s Deli', 'url': 'https://www.fastfoodmenuprices.com/mcalisters-deli-prices/'}, {'name': 'McDonalds', 'url': 'https://www.fastfoodmenuprices.com/mcdonalds-prices/'}, {'name': 'Mellow Mushroom', 'url': 'https://www.fastfoodmenuprices.com/mellow-mushroom-prices/'}, {'name': 'Melting Pot', 'url': 'https://www.fastfoodmenuprices.com/melting-pot-menu-prices/'}, {'name': 'Menchies', 'url': 'https://www.fastfoodmenuprices.com/menchies-prices/'}, {'name': 'Metro Diner', 'url': 'https://www.fastfoodmenuprices.com/metro-diner-menu-prices/'}, {'name': 'Mimi’s Cafe', 'url': 'https://www.fastfoodmenuprices.com/mimis-cafe-menu-prices/'}, {'name': 'Minard’s Spaghetti', 'url': 'https://www.fastfoodmenuprices.com/minards-spaghetti-menu-prices/'}, {'name': 'Ming Garden', 'url': 'https://www.fastfoodmenuprices.com/ming-garden-menu-prices/'}, {'name': 'Mission BBQ', 'url': 'https://www.fastfoodmenuprices.com/mission-bbq-prices/'}, {'name': 'Miyabi Jr', 'url': 'https://www.fastfoodmenuprices.com/miyabi-jr-menu-prices/'}, {'name': 'MOD Pizza Menu Prices', 'url': 'https://www.fastfoodmenuprices.com/mod-pizza-menu-prices/'}, {'name': 'Moe’s', 'url': 'https://www.fastfoodmenuprices.com/moes-prices/'}, {'name': 'Mojo’s', 'url': 'https://www.fastfoodmenuprices.com/mojos-menu-prices/'}, {'name': 'Mooyah', 'url': 'https://www.fastfoodmenuprices.com/mooyah-prices/'}, {'name': 'Morton’s Steakhouse', 'url': 'https://www.fastfoodmenuprices.com/mortons-steakhouse-menu-prices/'}, {'name': 'Mountain Mike’s Pizza', 'url': 'https://www.fastfoodmenuprices.com/mountain-mikes-pizza-prices/'}, {'name': 'Movie Tavern', 'url': 'https://www.fastfoodmenuprices.com/movie-tavern-menu-prices/'}, {'name': 'Mugshots Grill & Bar', 'url': 'https://www.fastfoodmenuprices.com/mugshots-grill-bar-prices/'}, {'name': 'Nancy’s Pizza', 'url': 'https://www.fastfoodmenuprices.com/nancys-pizza-menu-prices/'}, {'name': 'Newk’s', 'url': 'https://www.fastfoodmenuprices.com/newks-menu-prices/'}, {'name': 'Noodle House', 'url': 'https://www.fastfoodmenuprices.com/noodle-house-menu-prices/'}, {'name': 'Noodles & Company', 'url': 'https://www.fastfoodmenuprices.com/noodles-company-prices/'}, {'name': 'Nothing Bundt Cakes', 'url': 'https://www.fastfoodmenuprices.com/nothing-bundt-cakes-prices/'}, {'name': 'Norms', 'url': 'https://www.fastfoodmenuprices.com/norms-menu-prices/'}, {'name': 'Oberweis', 'url': 'https://www.fastfoodmenuprices.com/oberweis-prices/'}, {'name': 'O’Charley’s Restaurant And Bar', 'url': 'https://www.fastfoodmenuprices.com/ocharleys-menu-prices/'}, {'name': 'Old Chicago', 'url': 'https://www.fastfoodmenuprices.com/old-chicago-menu-prices/'}, {'name': 'Old Country Buffet Menu Prices', 'url': 'https://www.fastfoodmenuprices.com/old-country-buffet-menu-prices/'}, {'name': 'Olive Garden', 'url': 'https://www.fastfoodmenuprices.com/olive-garden-prices/'}, {'name': 'On The Border', 'url': 'https://www.fastfoodmenuprices.com/on-the-border-prices/'}, {'name': 'Orange Leaf', 'url': 'https://www.fastfoodmenuprices.com/orange-leaf-prices/'}, {'name': 'Outback Steakhouse', 'url': 'https://www.fastfoodmenuprices.com/outback-steakhouse-prices/'}, {'name': 'Pancheros', 'url': 'https://www.fastfoodmenuprices.com/pancheros-prices/'}, {'name': 'Panda Express', 'url': 'https://www.fastfoodmenuprices.com/panda-express-prices/'}, {'name': 'Panera Bread', 'url': 'https://www.fastfoodmenuprices.com/panera-bread-prices/'}, {'name': 'Papa Gino’s', 'url': 'https://www.fastfoodmenuprices.com/papa-ginos-menu-prices/'}, {'name': 'Papa John’s', 'url': 'https://www.fastfoodmenuprices.com/papa-johns-prices/'}, {'name': 'Pappadeaux', 'url': 'https://www.fastfoodmenuprices.com/pappadeaux-menu-prices/'}, {'name': 'Papa Murphy’s', 'url': 'https://www.fastfoodmenuprices.com/papa-murphys-prices/'}, {'name': 'PDQ', 'url': 'https://www.fastfoodmenuprices.com/pdq-prices/'}, {'name': 'Peet’s Coffee', 'url': 'https://www.fastfoodmenuprices.com/peets-coffee-menu-prices/'}, {'name': 'Pei Wei', 'url': 'https://www.fastfoodmenuprices.com/pei-wei-prices/'}, {'name': 'Penn Station', 'url': 'https://www.fastfoodmenuprices.com/penn-station-prices/'}, {'name': 'Perkins Restaurant & Bakery', 'url': 'https://www.fastfoodmenuprices.com/perkins-menu-prices/'}, {'name': 'Peter Luger', 'url': 'https://www.fastfoodmenuprices.com/peter-luger-menu-prices/'}, {'name': 'Peter Piper Pizza', 'url': 'https://www.fastfoodmenuprices.com/peter-piper-pizza-prices/'}, {'name': 'P.F. Chang’s', 'url': 'https://www.fastfoodmenuprices.com/p-f-changs-prices/'}, {'name': 'Philly Connection', 'url': 'https://www.fastfoodmenuprices.com/philly-connection-prices/'}, {'name': 'Philly Pretzel Factory', 'url': 'https://www.fastfoodmenuprices.com/philly-pretzel-factory-prices/'}, {'name': 'Piada', 'url': 'https://www.fastfoodmenuprices.com/piada-menu-prices/'}, {'name': 'Pie Five', 'url': 'https://www.fastfoodmenuprices.com/pie-five-prices/'}, {'name': 'Pieology', 'url': 'https://www.fastfoodmenuprices.com/pieology-prices/'}, {'name': 'Pinkberry', 'url': 'https://www.fastfoodmenuprices.com/pinkberry-prices/'}, {'name': 'Pita Pit', 'url': 'https://www.fastfoodmenuprices.com/pita-pit-prices/'}, {'name': 'Pizza Express', 'url': 'https://www.fastfoodmenuprices.com/pizza-express-menu-prices/'}, {'name': 'Pizza Factory', 'url': 'https://www.fastfoodmenuprices.com/pizza-factory-prices/'}, {'name': 'Pizza Hut', 'url': 'https://www.fastfoodmenuprices.com/pizza-hut-prices/'}, {'name': 'Pizza Schmizza', 'url': 'https://www.fastfoodmenuprices.com/pizza-schmizza-menu-prices/'}, {'name': 'Pollo Regio', 'url': 'https://www.fastfoodmenuprices.com/pollo-regio-menu-prices/'}, {'name': 'Polly’s Pies', 'url': 'https://www.fastfoodmenuprices.com/pollys-pies-menu-prices/'}, {'name': 'Primanti Brothers', 'url': 'https://www.fastfoodmenuprices.com/primanti-brothers-menu-prices/'}, {'name': 'Mayflower', 'url': 'https://www.fastfoodmenuprices.com/mayflower-menu-prices-2021/'}, {'name': 'Pizza Inn', 'url': 'https://www.fastfoodmenuprices.com/pizza-inn-prices/'}, {'name': 'Pizza Patron', 'url': 'https://www.fastfoodmenuprices.com/pizza-patron-prices/'}, {'name': 'Pizza Ranch', 'url': 'https://www.fastfoodmenuprices.com/pizza-ranch-prices/'}, {'name': 'PizzaRev', 'url': 'https://www.fastfoodmenuprices.com/pizzarev-prices/'}, {'name': 'Pizza Schmizza', 'url': 'https://www.fastfoodmenuprices.com/pizza-schmizza-menu-prices/'}, {'name': 'Planet Sub', 'url': 'https://www.fastfoodmenuprices.com/planet-sub-menu-prices/'}, {'name': 'Planet Smoothie', 'url': 'https://www.fastfoodmenuprices.com/planet-smoothie-prices/'}, {'name': 'Pluckers', 'url': 'https://www.fastfoodmenuprices.com/pluckers-menu-prices/'}, {'name': 'Pollo Campero', 'url': 'https://www.fastfoodmenuprices.com/pollo-campero-prices/'}, {'name': 'Pollo Regio', 'url': 'https://www.fastfoodmenuprices.com/pollo-regio-menu-prices/'}, {'name': 'Pollo Tropical', 'url': 'https://www.fastfoodmenuprices.com/pollo-tropical-prices/'}, {'name': 'Polly’s Pies', 'url': 'https://www.fastfoodmenuprices.com/pollys-pies-menu-prices/'}, {'name': 'Ponderosa', 'url': 'https://www.fastfoodmenuprices.com/ponderosa-menu-prices/'}, {'name': 'Popeyes', 'url': 'https://www.fastfoodmenuprices.com/popeyes-prices/'}, {'name': 'Portillo’s', 'url': 'https://www.fastfoodmenuprices.com/portillos-menu-prices/'}, {'name': 'Potbelly', 'url': 'https://www.fastfoodmenuprices.com/potbelly-prices/'}, {'name': 'Primo Hoagies', 'url': 'https://www.fastfoodmenuprices.com/primo-hoagies-prices/'}, {'name': 'Project Pie', 'url': 'https://www.fastfoodmenuprices.com/project-pie-prices/'}, {'name': 'Qdoba', 'url': 'https://www.fastfoodmenuprices.com/qdoba-prices/'}, {'name': 'Quiznos', 'url': 'https://www.fastfoodmenuprices.com/quiznos-prices/'}, {'name': 'Rafferty’s', 'url': 'https://www.fastfoodmenuprices.com/raffertys-menu-prices/'}, {'name': 'Rainforest Cafe', 'url': 'https://www.fastfoodmenuprices.com/rainforest-cafe-menu-prices/'}, {'name': 'Raising Cane’s', 'url': 'https://www.fastfoodmenuprices.com/raising-canes-prices/'}, {'name': 'Rally’s', 'url': 'https://www.fastfoodmenuprices.com/checkers-rallys-prices/'}, {'name': 'Red Mango', 'url': 'https://www.fastfoodmenuprices.com/red-mango-prices/'}, {'name': 'Red Lobster', 'url': 'https://www.fastfoodmenuprices.com/red-lobster-prices/'}, {'name': 'Red Robin', 'url': 'https://www.fastfoodmenuprices.com/red-robin-prices/'}, {'name': 'RibCrib', 'url': 'https://www.fastfoodmenuprices.com/ribcrib-menu-prices/'}, {'name': 'Robeks', 'url': 'https://www.fastfoodmenuprices.com/robeks-prices/'}, {'name': 'Romano’s Macaroni Grill', 'url': 'https://www.fastfoodmenuprices.com/romanos-macaroni-grill-menu-prices/'}, {'name': 'Round Table Pizza', 'url': 'https://www.fastfoodmenuprices.com/round-table-pizza-prices/'}, {'name': 'Rosa’s Cafe', 'url': 'https://www.fastfoodmenuprices.com/rosas-cafe-menu-prices/'}, {'name': 'Roy Rogers', 'url': 'https://www.fastfoodmenuprices.com/roy-rogers-menu-prices/'}, {'name': 'Rubio’s', 'url': 'https://www.fastfoodmenuprices.com/rubios-prices/'}, {'name': 'Ruby Tuesday', 'url': 'https://www.fastfoodmenuprices.com/ruby-tuesday-menu-prices/'}, {'name': 'Rudy’s', 'url': 'https://www.fastfoodmenuprices.com/rudys-menu-prices/'}, {'name': 'Runza', 'url': 'https://www.fastfoodmenuprices.com/runza-menu-prices/'}, {'name': 'Ruth’s Chris Steakhouse', 'url': 'https://www.fastfoodmenuprices.com/ruths-chris-steakhouse-menu-prices/'}, {'name': 'Sagebrush Steakhouse', 'url': 'https://www.fastfoodmenuprices.com/sagebrush-steakhouse-menu-prices/'}, {'name': 'Saladworks', 'url': 'https://www.fastfoodmenuprices.com/saladworks-prices/'}, {'name': 'Salad & Go', 'url': 'https://www.fastfoodmenuprices.com/salad-go-menu-prices/'}, {'name': 'Salata', 'url': 'https://www.fastfoodmenuprices.com/salata-menu-prices/'}, {'name': 'Saltgrass', 'url': 'https://www.fastfoodmenuprices.com/saltgrass-menu-prices/'}, {'name': 'Santiago’s', 'url': 'https://www.fastfoodmenuprices.com/santiagos-menu-prices/'}, {'name': 'Sbarro', 'url': 'https://www.fastfoodmenuprices.com/sbarro-prices/'}, {'name': 'Schlotzsky’s', 'url': 'https://www.fastfoodmenuprices.com/schlotzskys-prices/'}, {'name': 'Shake Shack', 'url': 'https://www.fastfoodmenuprices.com/shake-shack-prices/'}, {'name': 'Sharetea', 'url': 'https://www.fastfoodmenuprices.com/sharetea-menu-prices/'}, {'name': 'Shari’s', 'url': 'https://www.fastfoodmenuprices.com/sharis-menu-prices/'}, {'name': 'Sharks Fish and Chicken', 'url': 'https://www.fastfoodmenuprices.com/sharks-fish-and-chicken-prices/'}, {'name': 'Sheetz', 'url': 'https://www.fastfoodmenuprices.com/sheetz-prices/'}, {'name': 'Shrimp Basket', 'url': 'https://www.fastfoodmenuprices.com/shrimp-basket-menu-prices/'}, {'name': 'Shoney’s Buffet', 'url': 'https://www.fastfoodmenuprices.com/shoneys-buffet-menu-prices/'}, {'name': 'Showmars', 'url': 'https://www.fastfoodmenuprices.com/showmars-menu-prices/'}, {'name': 'Sizzler', 'url': 'https://www.fastfoodmenuprices.com/sizzler-menu-prices/'}, {'name': 'Smashburger', 'url': 'https://www.fastfoodmenuprices.com/smashburger-prices/'}, {'name': 'Smokey Bones', 'url': 'https://www.fastfoodmenuprices.com/smokey-bones-menu-prices/'}, {'name': 'Smoothie King', 'url': 'https://www.fastfoodmenuprices.com/smoothie-king-prices/'}, {'name': 'Sonic', 'url': 'https://www.fastfoodmenuprices.com/sonic-prices/'}, {'name': 'Sonny’s BBQ', 'url': 'https://www.fastfoodmenuprices.com/sonnys-bbq-prices/'}, {'name': 'Souplantation', 'url': 'https://www.fastfoodmenuprices.com/souplantation-menu-prices/'}, {'name': 'Spring Creek Barbeque', 'url': 'https://www.fastfoodmenuprices.com/spring-creek-barbeque-menu-prices/'}, {'name': 'Snappy Tomato', 'url': 'https://www.fastfoodmenuprices.com/snappy-tomato-menu-prices/'}, {'name': 'Snooze', 'url': 'https://www.fastfoodmenuprices.com/snooze-menu-prices/'}, {'name': 'Starbucks', 'url': 'https://www.fastfoodmenuprices.com/starbucks-prices/'}, {'name': 'Steak ‘n Shake', 'url': 'https://www.fastfoodmenuprices.com/steak-n-shake-prices/'}, {'name': 'Streets Of New York', 'url': 'https://www.fastfoodmenuprices.com/streets-of-new-york-menu-prices/'}, {'name': 'Sub Zero Ice Cream', 'url': 'https://www.fastfoodmenuprices.com/sub-zero-ice-cream-prices/'}, {'name': 'Subway', 'url': 'https://www.fastfoodmenuprices.com/subway-prices/'}, {'name': 'Sushi Ai', 'url': 'https://www.fastfoodmenuprices.com/sushi-ai-menu-prices/'}, {'name': 'Stoney River', 'url': 'https://www.fastfoodmenuprices.com/stoney-river-menu-prices/'}, {'name': 'St. Louis Pizza & Wings', 'url': 'https://www.fastfoodmenuprices.com/st-louis-pizza-wings-menu-prices/'}, {'name': 'Stonefire Grill', 'url': 'https://www.fastfoodmenuprices.com/stonefire-grill-menu-prices/'}, {'name': 'Sweet Frog', 'url': 'https://www.fastfoodmenuprices.com/sweet-frog-prices/'}, {'name': 'Sweetgreen', 'url': 'https://www.fastfoodmenuprices.com/sweetgreen-prices/'}, {'name': 'Sweet Tomatoes', 'url': 'https://www.fastfoodmenuprices.com/sweet-tomatoes-menu-prices/'}, {'name': 'Swensons', 'url': 'https://www.fastfoodmenuprices.com/swensons-menu-prices/'}, {'name': 'Taco Bell', 'url': 'https://www.fastfoodmenuprices.com/taco-bell-prices/'}, {'name': 'Taco Bueno', 'url': 'https://www.fastfoodmenuprices.com/taco-bueno-prices/'}, {'name': 'Taco Cabana', 'url': 'https://www.fastfoodmenuprices.com/taco-cabana-prices/'}, {'name': 'Taco Casa', 'url': 'https://www.fastfoodmenuprices.com/taco-casa-prices/'}, {'name': 'Taco John’s', 'url': 'https://www.fastfoodmenuprices.com/taco-johns-prices/'}, {'name': 'Taco King', 'url': 'https://www.fastfoodmenuprices.com/taco-king-menu-prices/'}, {'name': 'Taco Mac', 'url': 'https://www.fastfoodmenuprices.com/taco-mac-menu-prices/'}, {'name': 'Taco Time', 'url': 'https://www.fastfoodmenuprices.com/taco-time-prices/'}, {'name': 'Taqueria Jalisco', 'url': 'https://www.fastfoodmenuprices.com/taqueria-jalisco-menu-prices/'}, {'name': 'Taziki’s', 'url': 'https://www.fastfoodmenuprices.com/tazikis-menu-prices/'}, {'name': 'TCBY', 'url': 'https://www.fastfoodmenuprices.com/tcby-prices/'}, {'name': 'TGI Fridays', 'url': 'https://www.fastfoodmenuprices.com/tgi-fridays-menu-prices/'}, {'name': 'Texas de Brazil', 'url': 'https://www.fastfoodmenuprices.com/texas-de-brazil-menu-prices/'}, {'name': 'Texas Roadhouse', 'url': 'https://www.fastfoodmenuprices.com/texas-roadhouse-prices/'}, {'name': 'The Habit Burger', 'url': 'https://www.fastfoodmenuprices.com/the-habit-burger-prices/'}, {'name': 'The Old Spaghetti Factory', 'url': 'https://www.fastfoodmenuprices.com/the-old-spaghetti-factory-menu-prices/'}, {'name': 'Tilted Kilt', 'url': 'https://www.fastfoodmenuprices.com/tilted-kilt-menu-prices/'}, {'name': 'Tim Hortons', 'url': 'https://www.fastfoodmenuprices.com/tim-hortons-prices/'}, {'name': 'Toppers Pizza', 'url': 'https://www.fastfoodmenuprices.com/toppers-pizza-prices/'}, {'name': 'Togo’s', 'url': 'https://www.fastfoodmenuprices.com/togos-prices/'}, {'name': 'Tokyo Joe’s', 'url': 'https://www.fastfoodmenuprices.com/tokyo-joes-menu-prices/'}, {'name': 'Torchy’s Tacos', 'url': 'https://www.fastfoodmenuprices.com/torchys-tacos-menu-prices/'}, {'name': 'Tropical Smoothie', 'url': 'https://www.fastfoodmenuprices.com/tropical-smoothie-prices/'}, {'name': 'Tucanos', 'url': 'https://www.fastfoodmenuprices.com/tucanos-menu-prices/'}, {'name': 'Tutti Frutti', 'url': 'https://www.fastfoodmenuprices.com/tutti-frutti-prices/'}, {'name': 'Twin Peaks', 'url': 'https://www.fastfoodmenuprices.com/twin-peaks-menu-prices/'}, {'name': 'Veggie Grill', 'url': 'https://www.fastfoodmenuprices.com/veggie-grill-menu-prices/'}, {'name': 'Village Inn', 'url': 'https://www.fastfoodmenuprices.com/village-inn-menu-prices/'}, {'name': 'Vinny’s Pizza', 'url': 'https://www.fastfoodmenuprices.com/vinnys-pizza-menu-prices/'}, {'name': 'Volcano Sushi', 'url': 'https://www.fastfoodmenuprices.com/volcano-sushi-menu-prices/'}, {'name': 'WaBa Grill', 'url': 'https://www.fastfoodmenuprices.com/waba-grill-prices/'}, {'name': 'Wade’s', 'url': 'https://www.fastfoodmenuprices.com/wades-menu-prices/'}, {'name': 'Wade’s Cafe', 'url': 'https://www.fastfoodmenuprices.com/wades-cafe-menu-prices/'}, {'name': 'Waffle House', 'url': 'https://www.fastfoodmenuprices.com/waffle-house-menu-prices/'}, {'name': 'Wahlburgers', 'url': 'https://www.fastfoodmenuprices.com/wahlburgers-menu-prices/'}, {'name': 'Walk On’s', 'url': 'https://www.fastfoodmenuprices.com/walk-ons-menu-prices/'}, {'name': 'Wawa', 'url': 'https://www.fastfoodmenuprices.com/wawa-prices/'}, {'name': 'Wendy’s', 'url': 'https://www.fastfoodmenuprices.com/wendys-prices/'}, {'name': 'Westshore Pizza', 'url': 'https://www.fastfoodmenuprices.com/westshore-pizza-menu-prices/'}, {'name': 'Whataburger', 'url': 'https://www.fastfoodmenuprices.com/whataburger-prices/'}, {'name': 'Which Wich', 'url': 'https://www.fastfoodmenuprices.com/which-wich-prices/'}, {'name': 'White Castle', 'url': 'https://www.fastfoodmenuprices.com/white-castle-prices/'}, {'name': 'Wicked Spoon', 'url': 'https://www.fastfoodmenuprices.com/wicked-spoon-menu-prices/'}, {'name': 'Wienerschnitzel', 'url': 'https://www.fastfoodmenuprices.com/wienerschnitzel-prices/'}, {'name': 'WingHouse Bar & Grill', 'url': 'https://www.fastfoodmenuprices.com/winghouse-bar-grill-menu-prices/'}, {'name': 'Wings N’ Things', 'url': 'https://www.fastfoodmenuprices.com/wings-n-things-menu-prices/'}, {'name': 'Wingstop', 'url': 'https://www.fastfoodmenuprices.com/wingstop-prices/'}, {'name': 'Winking Lizard Tavern', 'url': 'https://www.fastfoodmenuprices.com/winking-lizard-taverns-menu-prices-2021/'}, {'name': 'Wing Zone', 'url': 'https://www.fastfoodmenuprices.com/wing-zone-menu-prices/'}, {'name': 'Wood Grill Buffet', 'url': 'https://www.fastfoodmenuprices.com/wood-grill-buffet-menu-prices/'}, {'name': 'Wynn Buffet', 'url': 'https://www.fastfoodmenuprices.com/wynn-buffet-menu-prices/'}, {'name': 'Yamato Japan', 'url': 'https://www.fastfoodmenuprices.com/yamato-japans-menu-prices-2021/'}, {'name': 'Yard House', 'url': 'https://www.fastfoodmenuprices.com/yard-house-menu-prices/'}, {'name': 'Yogurtland', 'url': 'https://www.fastfoodmenuprices.com/yogurtland-prices/'}, {'name': 'Yoshinoya', 'url': 'https://www.fastfoodmenuprices.com/yoshinoya-menu-prices/'}, {'name': 'Zaxby’s', 'url': 'https://www.fastfoodmenuprices.com/zaxbys-prices/'}, {'name': 'Zoes Kitchen', 'url': 'https://www.fastfoodmenuprices.com/zoes-kitchen-prices/'}, {'name': 'Zoup!', 'url': 'https://www.fastfoodmenuprices.com/zoup-prices/'}, {'name': 'Burger King UK', 'url': 'https://www.fastfoodmenuprices.com/uk/burger-king-menu-prices-uk/'}, {'name': 'Chipotle UK', 'url': 'https://www.fastfoodmenuprices.com/uk/chipotle-menu-prices-uk/'}, {'name': 'Five Guys UK', 'url': 'https://www.fastfoodmenuprices.com/uk/five-guys-menu-prices-uk/'}, {'name': 'KFC UK', 'url': 'https://www.fastfoodmenuprices.com/uk/kfc-menu-prices-uk/'}, {'name': 'Krispy Kreme UK', 'url': 'https://www.fastfoodmenuprices.com/uk/krispy-kreme-menu-prices-uk/'}, {'name': 'McDonalds UK', 'url': 'https://www.fastfoodmenuprices.com/uk/mcdonalds-menu-prices-uk/'}, {'name': 'Pizza Hut UK', 'url': 'https://www.fastfoodmenuprices.com/uk/pizza-hut-menu-prices-uk/'}, {'name': 'Starbucks UK', 'url': 'https://www.fastfoodmenuprices.com/uk/starbucks-menu-prices-uk/'}, {'name': 'Subway UK', 'url': 'https://www.fastfoodmenuprices.com/uk/subway-menu-prices-uk/'}, {'name': 'Chick-fil-A Catering', 'url': 'https://www.fastfoodmenuprices.com/chick-fil-a-catering-prices/'}, {'name': 'Chipotle Catering', 'url': 'https://www.fastfoodmenuprices.com/chipotle-catering-prices/'}, {'name': 'Panera Bread Catering', 'url': 'https://www.fastfoodmenuprices.com/panera-bread-catering-prices/'}, {'name': 'Qdoba Catering', 'url': 'https://www.fastfoodmenuprices.com/qdoba-catering-prices/'}, {'name': 'Subway Catering', 'url': 'https://www.fastfoodmenuprices.com/subway-catering-prices/'}, {'name': 'Arby’s', 'url': 'https://www.fastfoodmenuprices.com/arbys-prices/'}, {'name': 'Burger King', 'url': 'https://www.fastfoodmenuprices.com/burger-king-prices/'}, {'name': 'Chick-fil-A', 'url': 'https://www.fastfoodmenuprices.com/chick-fil-a-prices/'}, {'name': 'Chipotle', 'url': 'https://www.fastfoodmenuprices.com/chipotle-prices/'}, {'name': 'Domino’s', 'url': 'https://www.fastfoodmenuprices.com/dominos-prices/'}, {'name': 'Dunkin’ Donuts', 'url': 'https://www.fastfoodmenuprices.com/dunkin-donuts-prices/'}, {'name': 'Five Guys', 'url': 'https://www.fastfoodmenuprices.com/five-guys-prices/'}, {'name': 'KFC', 'url': 'https://www.fastfoodmenuprices.com/kfc-prices/'}, {'name': 'McDonald’s', 'url': 'https://www.fastfoodmenuprices.com/mcdonalds-prices/'}, {'name': 'Panera Bread', 'url': 'https://www.fastfoodmenuprices.com/panera-bread-prices/'}, {'name': 'Pizza Hut', 'url': 'https://www.fastfoodmenuprices.com/pizza-hut-prices/'}, {'name': 'Popeyes', 'url': 'https://www.fastfoodmenuprices.com/popeyes-prices/'}, {'name': 'Starbucks', 'url': 'https://www.fastfoodmenuprices.com/starbucks-prices/'}, {'name': 'Subway', 'url': 'https://www.fastfoodmenuprices.com/subway-prices/'}, {'name': 'Taco Bell', 'url': 'https://www.fastfoodmenuprices.com/taco-bell-prices/'}, {'name': 'Wendy’s', 'url': 'https://www.fastfoodmenuprices.com/wendys-prices/'}, {'name': 'Whataburger', 'url': 'https://www.fastfoodmenuprices.com/whataburger-prices/'}, {'name': 'White Castle', 'url': 'https://www.fastfoodmenuprices.com/white-castle-prices/'}, {'name': 'View All Restaurants', 'url': 'https://www.fastfoodmenuprices.com/all-restaurants/'}]\n"
     ]
    }
   ],
   "source": [
    "menus = getmenus()\n",
    "print(menus)\n"
   ]
  },
  {
   "cell_type": "code",
   "execution_count": 58,
   "metadata": {},
   "outputs": [
    {
     "data": {
      "text/plain": [
       "'https://www.fastfoodmenuprices.com/americas-best-wings-menu-prices/'"
      ]
     },
     "execution_count": 58,
     "metadata": {},
     "output_type": "execute_result"
    }
   ],
   "source": [
    "menus[3]['url']"
   ]
  },
  {
   "cell_type": "code",
   "execution_count": 37,
   "metadata": {},
   "outputs": [
    {
     "data": {
      "text/plain": [
       "[{'item': 'Bone-In Buffalo Wings', 'price': '$10.69'},\n",
       " {'item': 'Boneless Wings (Buffalo or Gold Fever)', 'price': '$13.09'},\n",
       " {'item': 'Boneless Wings & Skins Sampler', 'price': '$7.59'},\n",
       " {'item': 'Mozzarella Moons', 'price': '$9.89'},\n",
       " {'item': 'Outrageous Potato Skins', 'price': '$8.89'},\n",
       " {'item': 'Chicken Fajita Flatbread', 'price': '$12.89'},\n",
       " {'item': 'XL Boneless Wings (Buffalo or Gold Fever)', 'price': '$17.59'},\n",
       " {'item': 'XL Bone-In Buffalo Wings', 'price': '$12.89'},\n",
       " {'item': 'Bone-In Wings & Skins Sampler', 'price': '$12.09'},\n",
       " {'item': 'Sundried Tomato Chicken Kabob Salad', 'price': '$11.69'},\n",
       " {'item': 'Sirloin Tip Heart of Caesar Wedge', 'price': '$4.59'},\n",
       " {'item': 'Crispy Honey Mustard Chicken Salad', 'price': '$6.19'},\n",
       " {'item': 'House Salad', 'price': '$10.09'},\n",
       " {'item': 'Heart of Caesar Wedge', 'price': '$11.69'},\n",
       " {'item': 'Double Bleu Iceberg Wedge', 'price': '$11.99'},\n",
       " {'item': 'Soup & House Salad', 'price': '$5.99'},\n",
       " {'item': 'Soup & Heart of Caesar Wedge', 'price': '$4.89'},\n",
       " {'item': 'Soup & Double Bleu Iceberg Wedge', 'price': '$5.99'},\n",
       " {'item': 'French Onion Soup - Crock', 'price': '$4.89'},\n",
       " {'item': 'French Onion Soup - Cup', 'price': '$5.99'},\n",
       " {'item': 'Seafood Chowder - Crock', 'price': '$4.89'},\n",
       " {'item': 'Seafood Chowder - Cup', 'price': '$12.89'},\n",
       " {'item': 'Soup of the Day - Crock', 'price': '$12.39\\n'},\n",
       " {'item': 'Soup of the Day - Cup', 'price': '$11.29'},\n",
       " {'item': 'All Star Burger', 'price': '$11.69'},\n",
       " {'item': 'Vermont Cheddar Burger', 'price': '$11.19'},\n",
       " {'item': 'Cheese Burger', 'price': '$13.39'},\n",
       " {'item': 'Fit For You Vegetarian Black Bean Burger', 'price': '$11.39'},\n",
       " {'item': 'Bacon & Cheese Burger', 'price': '$10.79'},\n",
       " {'item': 'Crispy Fish BLT', 'price': '$11.19'},\n",
       " {'item': 'Open-Face Pub Steak Sandwich', 'price': '$11.29'},\n",
       " {'item': 'Honey BBQ Chicken Wrap', 'price': '$13.39'},\n",
       " {'item': 'Triple-Decker Turkey Club', 'price': '$9.99'},\n",
       " {'item': 'Apple BBQ Chicken Sandwich', 'price': '$9.99'},\n",
       " {'item': 'Plain Burger', 'price': '$9.99'},\n",
       " {'item': 'Pastrami Stack', 'price': '$9.99'},\n",
       " {'item': 'Garlic Parmesan Chicken Mac & Cheese', 'price': '$9.99'},\n",
       " {'item': 'Country Fried Chicken', 'price': '$9.99'},\n",
       " {'item': 'Twin Catch', 'price': '$9.99'},\n",
       " {'item': 'Sundried Tomato Chicken Kabobs', 'price': '$12.39'},\n",
       " {'item': 'Braised Short Rib Tacos', 'price': '$11.39'},\n",
       " {'item': 'New England Fried Shrimp', 'price': '$9.99'},\n",
       " {'item': 'Chopped Grilled Angus', 'price': '$18.09'},\n",
       " {'item': 'Southwest Fajita Chicken Bowl', 'price': '$20.59'},\n",
       " {'item': 'Southwest Fajita Steak Bowl', 'price': '$12.99'},\n",
       " {'item': 'Southwest Fajita Shrimp Bowl', 'price': '$19.09'},\n",
       " {'item': 'Ranch Crusted Chicken', 'price': '$23.19'},\n",
       " {'item': 'Royal Sirloin', 'price': '$14.29'},\n",
       " {'item': 'T-Bone Steak', 'price': '$16.49'},\n",
       " {'item': 'Top Sirloin Steak', 'price': '$17.59'},\n",
       " {'item': 'Prime Rib', 'price': '$22.49'},\n",
       " {'item': 'Prime Rib', 'price': '$23.49'},\n",
       " {'item': 'Stacked Apple BBQ Ribs', 'price': '$14.79'},\n",
       " {'item': 'Fit For You Mushroom Sirloin', 'price': '$17.39'},\n",
       " {'item': 'Broiled Sirloin Tips', 'price': '$11.39'},\n",
       " {'item': 'Smothered Tips', 'price': '$15.29'},\n",
       " {'item': 'King Size Broiled Sirloin Tips', 'price': '$13.19'},\n",
       " {'item': 'King Size Smothered Tips', 'price': '$15.29'},\n",
       " {'item': 'Baked Schrod', 'price': '$19.59'},\n",
       " {'item': 'Fresh Balsamic Salmon', 'price': '$18.89'},\n",
       " {'item': 'Crispy Fish Tacos', 'price': '$14.49'},\n",
       " {'item': 'Fit For You Fresh Salmon', 'price': '$21.19'},\n",
       " {'item': 'New England Fish Fry', 'price': '$12.09'},\n",
       " {'item': 'Fit For You Fresh Balsamic Salmon', 'price': '$10.99'},\n",
       " {'item': 'Sirloin & Fried Shrimp Combo', 'price': '$11.39'},\n",
       " {'item': 'Baked Coastal Combo', 'price': '$3.39'},\n",
       " {'item': 'Sirloin & Fresh Scallop Combo', 'price': '$3.39'},\n",
       " {'item': 'Sirloin Tips & Chicken Tenders', 'price': '$3.39'},\n",
       " {'item': 'Hot Buttered Colossal Lobster Roll', 'price': '$3.39'},\n",
       " {'item': 'Original Crispy Chicken Tenders', 'price': '$3.39'},\n",
       " {'item': 'Balsamic Grilled Chicken', 'price': '$4.79'},\n",
       " {'item': 'Chicken Parmigiana', 'price': '$4.79'},\n",
       " {'item': 'Maine Russet Mashed Potatoes', 'price': '$6.19'},\n",
       " {'item': 'Rice', 'price': '$4.59'},\n",
       " {'item': 'French Fries', 'price': '$6.49'},\n",
       " {'item': 'Baked Potato', 'price': '$5.69'},\n",
       " {'item': 'Coleslaw', 'price': '$5.69'},\n",
       " {'item': 'In-Season Vegetable', 'price': '$7.29'},\n",
       " {'item': 'Smoked Gouda and Bacon Mac & Cheese', 'price': '$4.89'},\n",
       " {'item': 'Loaded Mashed Potatoes', 'price': '$4.89'},\n",
       " {'item': 'Loaded Baked Potato', 'price': '$1.99'},\n",
       " {'item': 'Chicken Tenders', 'price': '$11.69'},\n",
       " {'item': 'Grilled Cheese', 'price': '$8.59'},\n",
       " {'item': 'Junior Burger with Cheese', 'price': '$9.99'},\n",
       " {'item': 'Jumbo Hot Dog', 'price': '$11.19'},\n",
       " {'item': 'Macaroni & Cheese', 'price': '$11.19'},\n",
       " {'item': 'Junior Sliced Ranch Steak', 'price': '$10.09'},\n",
       " {'item': 'Pasta with Classic Tomato Sauce', 'price': '$11.29'},\n",
       " {'item': 'Pasta with Butter', 'price': '$10.19'},\n",
       " {'item': 'Little Midnight Fudge Hero Sundae', 'price': '$11.69'},\n",
       " {'item': 'Honey BBQ Chicken Wrap', 'price': '$12.29'},\n",
       " {'item': 'Crispy Honey Mustard Chicken Salad', 'price': '$13.39'},\n",
       " {'item': 'The Classic', 'price': '$8.89'},\n",
       " {'item': 'Twin Catch', 'price': '$11.39'},\n",
       " {'item': 'Apple BBQ Chicken Sandwich', 'price': '$9.99'},\n",
       " {'item': 'Crispy Fish BLT', 'price': '$6.69'},\n",
       " {'item': 'Soup & House Salad', 'price': '$6.19'},\n",
       " {'item': 'Broiled Sirloin Tips', 'price': '$5.99'},\n",
       " {'item': 'The Classic with Bacon', 'price': '$6.19'},\n",
       " {'item': 'Soup & Heart of Caesar Wedge', 'price': '$2.59'},\n",
       " {'item': 'Open-Face Pub Steak Sandwich', 'price': '$2.59'},\n",
       " {'item': 'Smothered Sirloin Tips', 'price': '$2.59'},\n",
       " {'item': 'Pastrami Stack', 'price': '$3.29'},\n",
       " {'item': 'Chicken Fajita Flatbread', 'price': '$3.29'},\n",
       " {'item': 'Crispy Fish Tacos', 'price': '$2.29'},\n",
       " {'item': 'Braised Short Rib Tacos', 'price': '$2.29'},\n",
       " {'item': 'Towering Midnight Fudge Cake', 'price': '$2.59'}]"
      ]
     },
     "execution_count": 37,
     "metadata": {},
     "output_type": "execute_result"
    }
   ],
   "source": [
    "menu"
   ]
  },
  {
   "cell_type": "code",
   "execution_count": null,
   "metadata": {},
   "outputs": [],
   "source": []
  }
 ],
 "metadata": {
  "kernelspec": {
   "display_name": "Python 3",
   "language": "python",
   "name": "python3"
  },
  "language_info": {
   "codemirror_mode": {
    "name": "ipython",
    "version": 3
   },
   "file_extension": ".py",
   "mimetype": "text/x-python",
   "name": "python",
   "nbconvert_exporter": "python",
   "pygments_lexer": "ipython3",
   "version": "3.7.4"
  },
  "toc": {
   "base_numbering": 1,
   "nav_menu": {},
   "number_sections": true,
   "sideBar": true,
   "skip_h1_title": false,
   "title_cell": "Table of Contents",
   "title_sidebar": "Contents",
   "toc_cell": false,
   "toc_position": {},
   "toc_section_display": true,
   "toc_window_display": false
  },
  "varInspector": {
   "cols": {
    "lenName": 16,
    "lenType": 16,
    "lenVar": 40
   },
   "kernels_config": {
    "python": {
     "delete_cmd_postfix": "",
     "delete_cmd_prefix": "del ",
     "library": "var_list.py",
     "varRefreshCmd": "print(var_dic_list())"
    },
    "r": {
     "delete_cmd_postfix": ") ",
     "delete_cmd_prefix": "rm(",
     "library": "var_list.r",
     "varRefreshCmd": "cat(var_dic_list()) "
    }
   },
   "types_to_exclude": [
    "module",
    "function",
    "builtin_function_or_method",
    "instance",
    "_Feature"
   ],
   "window_display": false
  }
 },
 "nbformat": 4,
 "nbformat_minor": 2
}
